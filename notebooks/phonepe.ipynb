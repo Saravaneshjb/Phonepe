{
 "cells": [
  {
   "cell_type": "code",
   "execution_count": 1,
   "metadata": {},
   "outputs": [
    {
     "name": "stdout",
     "output_type": "stream",
     "text": [
      "Hello\n"
     ]
    }
   ],
   "source": [
    "print(\"Hello\")"
   ]
  },
  {
   "cell_type": "code",
   "execution_count": 3,
   "metadata": {},
   "outputs": [],
   "source": [
    "sample_dict={\"success\":True,\"code\":\"SUCCESS\",\"data\":{\"states\":None,\n",
    "                                         \"districts\":[{\"entityName\":\"south andaman\",\"metric\":{\"type\":\"TOTAL\",\"count\":5688,\"amount\":1.2560249343665812E7}},\n",
    "\t\t\t\t\t\t\t\t\t\t\t\t\t  {\"entityName\":\"nicobars\",\"metric\":{\"type\":\"TOTAL\",\"count\":528,\"amount\":1139848.801225994}},\n",
    "\t\t\t\t\t\t\t\t\t\t\t\t\t  {\"entityName\":\"north and middle andaman\",\"metric\":{\"type\":\"TOTAL\",\"count\":442,\"amount\":931663.0770939873}}],\n",
    "\t\t\t\t\t\t\t\t\t\t \"pincodes\":[{\"entityName\":\"744101\",\"metric\":{\"type\":\"TOTAL\",\"count\":1622,\"amount\":2769297.9039997994}},\n",
    "\t\t\t\t\t\t\t\t\t\t             {\"entityName\":\"744103\",\"metric\":{\"type\":\"TOTAL\",\"count\":1223,\"amount\":2238041.8716124697}},\n",
    "\t\t\t\t\t\t\t\t\t\t\t\t\t {\"entityName\":\"744102\",\"metric\":{\"type\":\"TOTAL\",\"count\":969,\"amount\":3519059.937562449}},\n",
    "\t\t\t\t\t\t\t\t\t\t\t\t\t {\"entityName\":\"744105\",\"metric\":{\"type\":\"TOTAL\",\"count\":685,\"amount\":1298560.9515503529}},\n",
    "\t\t\t\t\t\t\t\t\t\t\t\t\t {\"entityName\":\"744104\",\"metric\":{\"type\":\"TOTAL\",\"count\":340,\"amount\":1039715.3111450541}},\n",
    "\t\t\t\t\t\t\t\t\t\t\t\t\t {\"entityName\":\"744107\",\"metric\":{\"type\":\"TOTAL\",\"count\":302,\"amount\":556059.5308556345}},\n",
    "\t\t\t\t\t\t\t\t\t\t\t\t\t {\"entityName\":\"744301\",\"metric\":{\"type\":\"TOTAL\",\"count\":283,\"amount\":445739.1633851439}},\n",
    "\t\t\t\t\t\t\t\t\t\t\t\t\t {\"entityName\":\"744112\",\"metric\":{\"type\":\"TOTAL\",\"count\":269,\"amount\":333709.56700413954}},\n",
    "\t\t\t\t\t\t\t\t\t\t\t\t\t {\"entityName\":\"744202\",\"metric\":{\"type\":\"TOTAL\",\"count\":193,\"amount\":238914.01667155625}},\n",
    "\t\t\t\t\t\t\t\t\t\t\t\t\t {\"entityName\":\"744302\",\"metric\":{\"type\":\"TOTAL\",\"count\":168,\"amount\":547469.6509380838}}]\n",
    "\t\t\t\t\t\t\t\t\t\t},\n",
    "\t\t\t\t\t\t\t\t\t\t\"responseTimestamp\":1630501486876\n",
    "}"
   ]
  },
  {
   "cell_type": "code",
   "execution_count": 11,
   "metadata": {},
   "outputs": [
    {
     "name": "stdout",
     "output_type": "stream",
     "text": [
      "success\n",
      "True\n",
      "code\n",
      "SUCCESS\n",
      "data\n",
      "{'states': None, 'districts': [{'entityName': 'south andaman', 'metric': {'type': 'TOTAL', 'count': 5688, 'amount': 12560249.343665812}}, {'entityName': 'nicobars', 'metric': {'type': 'TOTAL', 'count': 528, 'amount': 1139848.801225994}}, {'entityName': 'north and middle andaman', 'metric': {'type': 'TOTAL', 'count': 442, 'amount': 931663.0770939873}}], 'pincodes': [{'entityName': '744101', 'metric': {'type': 'TOTAL', 'count': 1622, 'amount': 2769297.9039997994}}, {'entityName': '744103', 'metric': {'type': 'TOTAL', 'count': 1223, 'amount': 2238041.8716124697}}, {'entityName': '744102', 'metric': {'type': 'TOTAL', 'count': 969, 'amount': 3519059.937562449}}, {'entityName': '744105', 'metric': {'type': 'TOTAL', 'count': 685, 'amount': 1298560.9515503529}}, {'entityName': '744104', 'metric': {'type': 'TOTAL', 'count': 340, 'amount': 1039715.3111450541}}, {'entityName': '744107', 'metric': {'type': 'TOTAL', 'count': 302, 'amount': 556059.5308556345}}, {'entityName': '744301', 'metric': {'type': 'TOTAL', 'count': 283, 'amount': 445739.1633851439}}, {'entityName': '744112', 'metric': {'type': 'TOTAL', 'count': 269, 'amount': 333709.56700413954}}, {'entityName': '744202', 'metric': {'type': 'TOTAL', 'count': 193, 'amount': 238914.01667155625}}, {'entityName': '744302', 'metric': {'type': 'TOTAL', 'count': 168, 'amount': 547469.6509380838}}]}\n",
      "responseTimestamp\n",
      "1630501486876\n"
     ]
    }
   ],
   "source": [
    "for key,value in sample_dict.items():\n",
    "    print(key)\n",
    "    print(value)\n",
    "    # print(items)\n",
    "    # print(items['entityName'])\n",
    "    # print(items['metric']['count'])\n",
    "    # print(items['metric']['amount'])\n"
   ]
  },
  {
   "cell_type": "code",
   "execution_count": 1,
   "metadata": {},
   "outputs": [],
   "source": [
    "import pandas as pd"
   ]
  },
  {
   "cell_type": "code",
   "execution_count": 4,
   "metadata": {},
   "outputs": [
    {
     "data": {
      "text/html": [
       "<div>\n",
       "<style scoped>\n",
       "    .dataframe tbody tr th:only-of-type {\n",
       "        vertical-align: middle;\n",
       "    }\n",
       "\n",
       "    .dataframe tbody tr th {\n",
       "        vertical-align: top;\n",
       "    }\n",
       "\n",
       "    .dataframe thead th {\n",
       "        text-align: right;\n",
       "    }\n",
       "</style>\n",
       "<table border=\"1\" class=\"dataframe\">\n",
       "  <thead>\n",
       "    <tr style=\"text-align: right;\">\n",
       "      <th></th>\n",
       "      <th>State</th>\n",
       "      <th>Year</th>\n",
       "      <th>Quater</th>\n",
       "      <th>Transacion_type</th>\n",
       "      <th>Transacion_count</th>\n",
       "      <th>Transacion_amount</th>\n",
       "    </tr>\n",
       "  </thead>\n",
       "  <tbody>\n",
       "    <tr>\n",
       "      <th>0</th>\n",
       "      <td>andaman-&amp;-nicobar-islands</td>\n",
       "      <td>2018</td>\n",
       "      <td>1</td>\n",
       "      <td>Recharge &amp; bill payments</td>\n",
       "      <td>4200</td>\n",
       "      <td>1.845307e+06</td>\n",
       "    </tr>\n",
       "    <tr>\n",
       "      <th>1</th>\n",
       "      <td>andaman-&amp;-nicobar-islands</td>\n",
       "      <td>2018</td>\n",
       "      <td>1</td>\n",
       "      <td>Peer-to-peer payments</td>\n",
       "      <td>1871</td>\n",
       "      <td>1.213866e+07</td>\n",
       "    </tr>\n",
       "    <tr>\n",
       "      <th>2</th>\n",
       "      <td>andaman-&amp;-nicobar-islands</td>\n",
       "      <td>2018</td>\n",
       "      <td>1</td>\n",
       "      <td>Merchant payments</td>\n",
       "      <td>298</td>\n",
       "      <td>4.525072e+05</td>\n",
       "    </tr>\n",
       "    <tr>\n",
       "      <th>3</th>\n",
       "      <td>andaman-&amp;-nicobar-islands</td>\n",
       "      <td>2018</td>\n",
       "      <td>1</td>\n",
       "      <td>Financial Services</td>\n",
       "      <td>33</td>\n",
       "      <td>1.060142e+04</td>\n",
       "    </tr>\n",
       "    <tr>\n",
       "      <th>4</th>\n",
       "      <td>andaman-&amp;-nicobar-islands</td>\n",
       "      <td>2018</td>\n",
       "      <td>1</td>\n",
       "      <td>Others</td>\n",
       "      <td>256</td>\n",
       "      <td>1.846899e+05</td>\n",
       "    </tr>\n",
       "    <tr>\n",
       "      <th>...</th>\n",
       "      <td>...</td>\n",
       "      <td>...</td>\n",
       "      <td>...</td>\n",
       "      <td>...</td>\n",
       "      <td>...</td>\n",
       "      <td>...</td>\n",
       "    </tr>\n",
       "    <tr>\n",
       "      <th>4309</th>\n",
       "      <td>west-bengal</td>\n",
       "      <td>2023</td>\n",
       "      <td>4</td>\n",
       "      <td>Merchant payments</td>\n",
       "      <td>354067997</td>\n",
       "      <td>2.390738e+11</td>\n",
       "    </tr>\n",
       "    <tr>\n",
       "      <th>4310</th>\n",
       "      <td>west-bengal</td>\n",
       "      <td>2023</td>\n",
       "      <td>4</td>\n",
       "      <td>Peer-to-peer payments</td>\n",
       "      <td>317959249</td>\n",
       "      <td>9.641385e+11</td>\n",
       "    </tr>\n",
       "    <tr>\n",
       "      <th>4311</th>\n",
       "      <td>west-bengal</td>\n",
       "      <td>2023</td>\n",
       "      <td>4</td>\n",
       "      <td>Recharge &amp; bill payments</td>\n",
       "      <td>64920775</td>\n",
       "      <td>4.531943e+10</td>\n",
       "    </tr>\n",
       "    <tr>\n",
       "      <th>4312</th>\n",
       "      <td>west-bengal</td>\n",
       "      <td>2023</td>\n",
       "      <td>4</td>\n",
       "      <td>Financial Services</td>\n",
       "      <td>480740</td>\n",
       "      <td>4.590073e+08</td>\n",
       "    </tr>\n",
       "    <tr>\n",
       "      <th>4313</th>\n",
       "      <td>west-bengal</td>\n",
       "      <td>2023</td>\n",
       "      <td>4</td>\n",
       "      <td>Others</td>\n",
       "      <td>524477</td>\n",
       "      <td>4.041567e+08</td>\n",
       "    </tr>\n",
       "  </tbody>\n",
       "</table>\n",
       "<p>4314 rows × 6 columns</p>\n",
       "</div>"
      ],
      "text/plain": [
       "                          State  Year  Quater           Transacion_type  \\\n",
       "0     andaman-&-nicobar-islands  2018       1  Recharge & bill payments   \n",
       "1     andaman-&-nicobar-islands  2018       1     Peer-to-peer payments   \n",
       "2     andaman-&-nicobar-islands  2018       1         Merchant payments   \n",
       "3     andaman-&-nicobar-islands  2018       1        Financial Services   \n",
       "4     andaman-&-nicobar-islands  2018       1                    Others   \n",
       "...                         ...   ...     ...                       ...   \n",
       "4309                west-bengal  2023       4         Merchant payments   \n",
       "4310                west-bengal  2023       4     Peer-to-peer payments   \n",
       "4311                west-bengal  2023       4  Recharge & bill payments   \n",
       "4312                west-bengal  2023       4        Financial Services   \n",
       "4313                west-bengal  2023       4                    Others   \n",
       "\n",
       "      Transacion_count  Transacion_amount  \n",
       "0                 4200       1.845307e+06  \n",
       "1                 1871       1.213866e+07  \n",
       "2                  298       4.525072e+05  \n",
       "3                   33       1.060142e+04  \n",
       "4                  256       1.846899e+05  \n",
       "...                ...                ...  \n",
       "4309         354067997       2.390738e+11  \n",
       "4310         317959249       9.641385e+11  \n",
       "4311          64920775       4.531943e+10  \n",
       "4312            480740       4.590073e+08  \n",
       "4313            524477       4.041567e+08  \n",
       "\n",
       "[4314 rows x 6 columns]"
      ]
     },
     "execution_count": 4,
     "metadata": {},
     "output_type": "execute_result"
    }
   ],
   "source": [
    "agg_trans=pd.read_csv('D:\\\\Saravanesh Personal\\\\Guvi\\\\Capstone Projects\\\\Phonepe\\\\process_dataframe\\\\agg_trans.csv')\n",
    "agg_trans"
   ]
  },
  {
   "cell_type": "code",
   "execution_count": 22,
   "metadata": {},
   "outputs": [
    {
     "data": {
      "text/html": [
       "<div>\n",
       "<style scoped>\n",
       "    .dataframe tbody tr th:only-of-type {\n",
       "        vertical-align: middle;\n",
       "    }\n",
       "\n",
       "    .dataframe tbody tr th {\n",
       "        vertical-align: top;\n",
       "    }\n",
       "\n",
       "    .dataframe thead th {\n",
       "        text-align: right;\n",
       "    }\n",
       "</style>\n",
       "<table border=\"1\" class=\"dataframe\">\n",
       "  <thead>\n",
       "    <tr style=\"text-align: right;\">\n",
       "      <th></th>\n",
       "      <th></th>\n",
       "      <th>Quater</th>\n",
       "      <th>Transacion_type</th>\n",
       "      <th>Transacion_count</th>\n",
       "      <th>Transacion_amount</th>\n",
       "    </tr>\n",
       "    <tr>\n",
       "      <th>State</th>\n",
       "      <th>Year</th>\n",
       "      <th></th>\n",
       "      <th></th>\n",
       "      <th></th>\n",
       "      <th></th>\n",
       "    </tr>\n",
       "  </thead>\n",
       "  <tbody>\n",
       "    <tr>\n",
       "      <th rowspan=\"5\" valign=\"top\">andaman-&amp;-nicobar-islands</th>\n",
       "      <th>2018</th>\n",
       "      <td>50</td>\n",
       "      <td>Recharge &amp; bill paymentsPeer-to-peer paymentsM...</td>\n",
       "      <td>58021</td>\n",
       "      <td>1.890761e+08</td>\n",
       "    </tr>\n",
       "    <tr>\n",
       "      <th>2019</th>\n",
       "      <td>50</td>\n",
       "      <td>Recharge &amp; bill paymentsPeer-to-peer paymentsM...</td>\n",
       "      <td>133104</td>\n",
       "      <td>4.734648e+08</td>\n",
       "    </tr>\n",
       "    <tr>\n",
       "      <th>2020</th>\n",
       "      <td>50</td>\n",
       "      <td>Peer-to-peer paymentsRecharge &amp; bill paymentsM...</td>\n",
       "      <td>446274</td>\n",
       "      <td>1.296423e+09</td>\n",
       "    </tr>\n",
       "    <tr>\n",
       "      <th>2021</th>\n",
       "      <td>50</td>\n",
       "      <td>Peer-to-peer paymentsRecharge &amp; bill paymentsM...</td>\n",
       "      <td>1672053</td>\n",
       "      <td>4.925488e+09</td>\n",
       "    </tr>\n",
       "    <tr>\n",
       "      <th>2022</th>\n",
       "      <td>50</td>\n",
       "      <td>Peer-to-peer paymentsMerchant paymentsRecharge...</td>\n",
       "      <td>5437879</td>\n",
       "      <td>1.211026e+10</td>\n",
       "    </tr>\n",
       "    <tr>\n",
       "      <th>...</th>\n",
       "      <th>...</th>\n",
       "      <td>...</td>\n",
       "      <td>...</td>\n",
       "      <td>...</td>\n",
       "      <td>...</td>\n",
       "    </tr>\n",
       "    <tr>\n",
       "      <th rowspan=\"5\" valign=\"top\">west-bengal</th>\n",
       "      <th>2019</th>\n",
       "      <td>50</td>\n",
       "      <td>Peer-to-peer paymentsRecharge &amp; bill paymentsM...</td>\n",
       "      <td>257900590</td>\n",
       "      <td>2.660145e+11</td>\n",
       "    </tr>\n",
       "    <tr>\n",
       "      <th>2020</th>\n",
       "      <td>50</td>\n",
       "      <td>Peer-to-peer paymentsMerchant paymentsRecharge...</td>\n",
       "      <td>304222327</td>\n",
       "      <td>5.527316e+11</td>\n",
       "    </tr>\n",
       "    <tr>\n",
       "      <th>2021</th>\n",
       "      <td>50</td>\n",
       "      <td>Peer-to-peer paymentsMerchant paymentsRecharge...</td>\n",
       "      <td>666894037</td>\n",
       "      <td>1.347047e+12</td>\n",
       "    </tr>\n",
       "    <tr>\n",
       "      <th>2022</th>\n",
       "      <td>50</td>\n",
       "      <td>Peer-to-peer paymentsMerchant paymentsRecharge...</td>\n",
       "      <td>1338887218</td>\n",
       "      <td>2.692527e+12</td>\n",
       "    </tr>\n",
       "    <tr>\n",
       "      <th>2023</th>\n",
       "      <td>50</td>\n",
       "      <td>Peer-to-peer paymentsMerchant paymentsRecharge...</td>\n",
       "      <td>2374642459</td>\n",
       "      <td>4.227142e+12</td>\n",
       "    </tr>\n",
       "  </tbody>\n",
       "</table>\n",
       "<p>216 rows × 4 columns</p>\n",
       "</div>"
      ],
      "text/plain": [
       "                                Quater  \\\n",
       "State                     Year           \n",
       "andaman-&-nicobar-islands 2018      50   \n",
       "                          2019      50   \n",
       "                          2020      50   \n",
       "                          2021      50   \n",
       "                          2022      50   \n",
       "...                                ...   \n",
       "west-bengal               2019      50   \n",
       "                          2020      50   \n",
       "                          2021      50   \n",
       "                          2022      50   \n",
       "                          2023      50   \n",
       "\n",
       "                                                                  Transacion_type  \\\n",
       "State                     Year                                                      \n",
       "andaman-&-nicobar-islands 2018  Recharge & bill paymentsPeer-to-peer paymentsM...   \n",
       "                          2019  Recharge & bill paymentsPeer-to-peer paymentsM...   \n",
       "                          2020  Peer-to-peer paymentsRecharge & bill paymentsM...   \n",
       "                          2021  Peer-to-peer paymentsRecharge & bill paymentsM...   \n",
       "                          2022  Peer-to-peer paymentsMerchant paymentsRecharge...   \n",
       "...                                                                           ...   \n",
       "west-bengal               2019  Peer-to-peer paymentsRecharge & bill paymentsM...   \n",
       "                          2020  Peer-to-peer paymentsMerchant paymentsRecharge...   \n",
       "                          2021  Peer-to-peer paymentsMerchant paymentsRecharge...   \n",
       "                          2022  Peer-to-peer paymentsMerchant paymentsRecharge...   \n",
       "                          2023  Peer-to-peer paymentsMerchant paymentsRecharge...   \n",
       "\n",
       "                                Transacion_count  Transacion_amount  \n",
       "State                     Year                                       \n",
       "andaman-&-nicobar-islands 2018             58021       1.890761e+08  \n",
       "                          2019            133104       4.734648e+08  \n",
       "                          2020            446274       1.296423e+09  \n",
       "                          2021           1672053       4.925488e+09  \n",
       "                          2022           5437879       1.211026e+10  \n",
       "...                                          ...                ...  \n",
       "west-bengal               2019         257900590       2.660145e+11  \n",
       "                          2020         304222327       5.527316e+11  \n",
       "                          2021         666894037       1.347047e+12  \n",
       "                          2022        1338887218       2.692527e+12  \n",
       "                          2023        2374642459       4.227142e+12  \n",
       "\n",
       "[216 rows x 4 columns]"
      ]
     },
     "execution_count": 22,
     "metadata": {},
     "output_type": "execute_result"
    }
   ],
   "source": [
    "agg_trans.groupby(['State','Year']).sum()"
   ]
  },
  {
   "cell_type": "code",
   "execution_count": 30,
   "metadata": {},
   "outputs": [
    {
     "data": {
      "application/vnd.plotly.v1+json": {
       "config": {
        "plotlyServerURL": "https://plot.ly"
       },
       "data": [
        {
         "coloraxis": "coloraxis",
         "customdata": [
          [
           39927731199.59808
          ],
          [
           21795771188554.836
          ],
          [
           151999710967.68097
          ],
          [
           2077954865248.8904
          ],
          [
           10497557965821.72
          ],
          [
           219746864614.68613
          ],
          [
           2856960496784.8174
          ],
          [
           116361815129.11563
          ],
          [
           7892824672179.953
          ],
          [
           315738312880.3032
          ],
          [
           6371095421745.369
          ],
          [
           5977637706831.904
          ],
          [
           459450448873.4002
          ],
          [
           656239165011.731
          ],
          [
           3412889914470.9204
          ],
          [
           25349416045416.375
          ],
          [
           2075245364921.1377
          ],
          [
           49276218725.102135
          ],
          [
           892890794.777147
          ],
          [
           11955791721159.814
          ],
          [
           25589810346502.676
          ],
          [
           142391435526.74362
          ],
          [
           94152098326.48494
          ],
          [
           30288477887.331387
          ],
          [
           83060349507.69928
          ],
          [
           7460062507122.618
          ],
          [
           162188185748.2651
          ],
          [
           1970097544060.2927
          ],
          [
           16230333767232.238
          ],
          [
           74982231792.84947
          ],
          [
           7898794291293.533
          ],
          [
           27580276383675.32
          ],
          [
           122335036520.46307
          ],
          [
           15771863990500.863
          ],
          [
           1217275162453.317
          ],
          [
           9197051175373.682
          ]
         ],
         "featureidkey": "properties.ST_NM",
         "geo": "geo",
         "geojson": "https://gist.githubusercontent.com/jbrobst/56c13bbbf9d97d187fea01ca62ea5112/raw/e388c4cae20aa53cb5090210a42ebb9b765c0a36/india_states.geojson",
         "hovertemplate": "<b>%{hovertext}</b><br><br>State=%{location}<br>Total_Transaction_amount=%{z:,.2f}<extra></extra>",
         "hovertext": [
          "andaman-&-nicobar-islands",
          "andhra-pradesh",
          "arunachal-pradesh",
          "assam",
          "bihar",
          "chandigarh",
          "chhattisgarh",
          "dadra-&-nagar-haveli-&-daman-&-diu",
          "delhi",
          "goa",
          "gujarat",
          "haryana",
          "himachal-pradesh",
          "jammu-&-kashmir",
          "jharkhand",
          "karnataka",
          "kerala",
          "ladakh",
          "lakshadweep",
          "madhya-pradesh",
          "maharashtra",
          "manipur",
          "meghalaya",
          "mizoram",
          "nagaland",
          "odisha",
          "puducherry",
          "punjab",
          "rajasthan",
          "sikkim",
          "tamil-nadu",
          "telangana",
          "tripura",
          "uttar-pradesh",
          "uttarakhand",
          "west-bengal"
         ],
         "locations": [
          "andaman-&-nicobar-islands",
          "andhra-pradesh",
          "arunachal-pradesh",
          "assam",
          "bihar",
          "chandigarh",
          "chhattisgarh",
          "dadra-&-nagar-haveli-&-daman-&-diu",
          "delhi",
          "goa",
          "gujarat",
          "haryana",
          "himachal-pradesh",
          "jammu-&-kashmir",
          "jharkhand",
          "karnataka",
          "kerala",
          "ladakh",
          "lakshadweep",
          "madhya-pradesh",
          "maharashtra",
          "manipur",
          "meghalaya",
          "mizoram",
          "nagaland",
          "odisha",
          "puducherry",
          "punjab",
          "rajasthan",
          "sikkim",
          "tamil-nadu",
          "telangana",
          "tripura",
          "uttar-pradesh",
          "uttarakhand",
          "west-bengal"
         ],
         "name": "",
         "type": "choropleth",
         "z": [
          39927731199.59808,
          21795771188554.836,
          151999710967.68097,
          2077954865248.8904,
          10497557965821.72,
          219746864614.68613,
          2856960496784.8174,
          116361815129.11563,
          7892824672179.953,
          315738312880.3032,
          6371095421745.369,
          5977637706831.904,
          459450448873.4002,
          656239165011.731,
          3412889914470.9204,
          25349416045416.375,
          2075245364921.1377,
          49276218725.102135,
          892890794.777147,
          11955791721159.814,
          25589810346502.676,
          142391435526.74362,
          94152098326.48494,
          30288477887.331387,
          83060349507.69928,
          7460062507122.618,
          162188185748.2651,
          1970097544060.2927,
          16230333767232.238,
          74982231792.84947,
          7898794291293.533,
          27580276383675.32,
          122335036520.46307,
          15771863990500.863,
          1217275162453.317,
          9197051175373.682
         ]
        }
       ],
       "layout": {
        "coloraxis": {
         "colorbar": {
          "title": {
           "text": "Total_Transaction_amount"
          }
         },
         "colorscale": [
          [
           0,
           "rgb(255,245,240)"
          ],
          [
           0.125,
           "rgb(254,224,210)"
          ],
          [
           0.25,
           "rgb(252,187,161)"
          ],
          [
           0.375,
           "rgb(252,146,114)"
          ],
          [
           0.5,
           "rgb(251,106,74)"
          ],
          [
           0.625,
           "rgb(239,59,44)"
          ],
          [
           0.75,
           "rgb(203,24,29)"
          ],
          [
           0.875,
           "rgb(165,15,21)"
          ],
          [
           1,
           "rgb(103,0,13)"
          ]
         ]
        },
        "geo": {
         "center": {},
         "domain": {
          "x": [
           0,
           1
          ],
          "y": [
           0,
           1
          ]
         },
         "fitbounds": "locations",
         "visible": false
        },
        "hoverlabel": {
         "bgcolor": "white",
         "font": {
          "family": "Rockwell",
          "size": 16
         }
        },
        "legend": {
         "tracegroupgap": 0
        },
        "margin": {
         "t": 60
        },
        "template": {
         "data": {
          "bar": [
           {
            "error_x": {
             "color": "#2a3f5f"
            },
            "error_y": {
             "color": "#2a3f5f"
            },
            "marker": {
             "line": {
              "color": "#E5ECF6",
              "width": 0.5
             },
             "pattern": {
              "fillmode": "overlay",
              "size": 10,
              "solidity": 0.2
             }
            },
            "type": "bar"
           }
          ],
          "barpolar": [
           {
            "marker": {
             "line": {
              "color": "#E5ECF6",
              "width": 0.5
             },
             "pattern": {
              "fillmode": "overlay",
              "size": 10,
              "solidity": 0.2
             }
            },
            "type": "barpolar"
           }
          ],
          "carpet": [
           {
            "aaxis": {
             "endlinecolor": "#2a3f5f",
             "gridcolor": "white",
             "linecolor": "white",
             "minorgridcolor": "white",
             "startlinecolor": "#2a3f5f"
            },
            "baxis": {
             "endlinecolor": "#2a3f5f",
             "gridcolor": "white",
             "linecolor": "white",
             "minorgridcolor": "white",
             "startlinecolor": "#2a3f5f"
            },
            "type": "carpet"
           }
          ],
          "choropleth": [
           {
            "colorbar": {
             "outlinewidth": 0,
             "ticks": ""
            },
            "type": "choropleth"
           }
          ],
          "contour": [
           {
            "colorbar": {
             "outlinewidth": 0,
             "ticks": ""
            },
            "colorscale": [
             [
              0,
              "#0d0887"
             ],
             [
              0.1111111111111111,
              "#46039f"
             ],
             [
              0.2222222222222222,
              "#7201a8"
             ],
             [
              0.3333333333333333,
              "#9c179e"
             ],
             [
              0.4444444444444444,
              "#bd3786"
             ],
             [
              0.5555555555555556,
              "#d8576b"
             ],
             [
              0.6666666666666666,
              "#ed7953"
             ],
             [
              0.7777777777777778,
              "#fb9f3a"
             ],
             [
              0.8888888888888888,
              "#fdca26"
             ],
             [
              1,
              "#f0f921"
             ]
            ],
            "type": "contour"
           }
          ],
          "contourcarpet": [
           {
            "colorbar": {
             "outlinewidth": 0,
             "ticks": ""
            },
            "type": "contourcarpet"
           }
          ],
          "heatmap": [
           {
            "colorbar": {
             "outlinewidth": 0,
             "ticks": ""
            },
            "colorscale": [
             [
              0,
              "#0d0887"
             ],
             [
              0.1111111111111111,
              "#46039f"
             ],
             [
              0.2222222222222222,
              "#7201a8"
             ],
             [
              0.3333333333333333,
              "#9c179e"
             ],
             [
              0.4444444444444444,
              "#bd3786"
             ],
             [
              0.5555555555555556,
              "#d8576b"
             ],
             [
              0.6666666666666666,
              "#ed7953"
             ],
             [
              0.7777777777777778,
              "#fb9f3a"
             ],
             [
              0.8888888888888888,
              "#fdca26"
             ],
             [
              1,
              "#f0f921"
             ]
            ],
            "type": "heatmap"
           }
          ],
          "heatmapgl": [
           {
            "colorbar": {
             "outlinewidth": 0,
             "ticks": ""
            },
            "colorscale": [
             [
              0,
              "#0d0887"
             ],
             [
              0.1111111111111111,
              "#46039f"
             ],
             [
              0.2222222222222222,
              "#7201a8"
             ],
             [
              0.3333333333333333,
              "#9c179e"
             ],
             [
              0.4444444444444444,
              "#bd3786"
             ],
             [
              0.5555555555555556,
              "#d8576b"
             ],
             [
              0.6666666666666666,
              "#ed7953"
             ],
             [
              0.7777777777777778,
              "#fb9f3a"
             ],
             [
              0.8888888888888888,
              "#fdca26"
             ],
             [
              1,
              "#f0f921"
             ]
            ],
            "type": "heatmapgl"
           }
          ],
          "histogram": [
           {
            "marker": {
             "pattern": {
              "fillmode": "overlay",
              "size": 10,
              "solidity": 0.2
             }
            },
            "type": "histogram"
           }
          ],
          "histogram2d": [
           {
            "colorbar": {
             "outlinewidth": 0,
             "ticks": ""
            },
            "colorscale": [
             [
              0,
              "#0d0887"
             ],
             [
              0.1111111111111111,
              "#46039f"
             ],
             [
              0.2222222222222222,
              "#7201a8"
             ],
             [
              0.3333333333333333,
              "#9c179e"
             ],
             [
              0.4444444444444444,
              "#bd3786"
             ],
             [
              0.5555555555555556,
              "#d8576b"
             ],
             [
              0.6666666666666666,
              "#ed7953"
             ],
             [
              0.7777777777777778,
              "#fb9f3a"
             ],
             [
              0.8888888888888888,
              "#fdca26"
             ],
             [
              1,
              "#f0f921"
             ]
            ],
            "type": "histogram2d"
           }
          ],
          "histogram2dcontour": [
           {
            "colorbar": {
             "outlinewidth": 0,
             "ticks": ""
            },
            "colorscale": [
             [
              0,
              "#0d0887"
             ],
             [
              0.1111111111111111,
              "#46039f"
             ],
             [
              0.2222222222222222,
              "#7201a8"
             ],
             [
              0.3333333333333333,
              "#9c179e"
             ],
             [
              0.4444444444444444,
              "#bd3786"
             ],
             [
              0.5555555555555556,
              "#d8576b"
             ],
             [
              0.6666666666666666,
              "#ed7953"
             ],
             [
              0.7777777777777778,
              "#fb9f3a"
             ],
             [
              0.8888888888888888,
              "#fdca26"
             ],
             [
              1,
              "#f0f921"
             ]
            ],
            "type": "histogram2dcontour"
           }
          ],
          "mesh3d": [
           {
            "colorbar": {
             "outlinewidth": 0,
             "ticks": ""
            },
            "type": "mesh3d"
           }
          ],
          "parcoords": [
           {
            "line": {
             "colorbar": {
              "outlinewidth": 0,
              "ticks": ""
             }
            },
            "type": "parcoords"
           }
          ],
          "pie": [
           {
            "automargin": true,
            "type": "pie"
           }
          ],
          "scatter": [
           {
            "fillpattern": {
             "fillmode": "overlay",
             "size": 10,
             "solidity": 0.2
            },
            "type": "scatter"
           }
          ],
          "scatter3d": [
           {
            "line": {
             "colorbar": {
              "outlinewidth": 0,
              "ticks": ""
             }
            },
            "marker": {
             "colorbar": {
              "outlinewidth": 0,
              "ticks": ""
             }
            },
            "type": "scatter3d"
           }
          ],
          "scattercarpet": [
           {
            "marker": {
             "colorbar": {
              "outlinewidth": 0,
              "ticks": ""
             }
            },
            "type": "scattercarpet"
           }
          ],
          "scattergeo": [
           {
            "marker": {
             "colorbar": {
              "outlinewidth": 0,
              "ticks": ""
             }
            },
            "type": "scattergeo"
           }
          ],
          "scattergl": [
           {
            "marker": {
             "colorbar": {
              "outlinewidth": 0,
              "ticks": ""
             }
            },
            "type": "scattergl"
           }
          ],
          "scattermapbox": [
           {
            "marker": {
             "colorbar": {
              "outlinewidth": 0,
              "ticks": ""
             }
            },
            "type": "scattermapbox"
           }
          ],
          "scatterpolar": [
           {
            "marker": {
             "colorbar": {
              "outlinewidth": 0,
              "ticks": ""
             }
            },
            "type": "scatterpolar"
           }
          ],
          "scatterpolargl": [
           {
            "marker": {
             "colorbar": {
              "outlinewidth": 0,
              "ticks": ""
             }
            },
            "type": "scatterpolargl"
           }
          ],
          "scatterternary": [
           {
            "marker": {
             "colorbar": {
              "outlinewidth": 0,
              "ticks": ""
             }
            },
            "type": "scatterternary"
           }
          ],
          "surface": [
           {
            "colorbar": {
             "outlinewidth": 0,
             "ticks": ""
            },
            "colorscale": [
             [
              0,
              "#0d0887"
             ],
             [
              0.1111111111111111,
              "#46039f"
             ],
             [
              0.2222222222222222,
              "#7201a8"
             ],
             [
              0.3333333333333333,
              "#9c179e"
             ],
             [
              0.4444444444444444,
              "#bd3786"
             ],
             [
              0.5555555555555556,
              "#d8576b"
             ],
             [
              0.6666666666666666,
              "#ed7953"
             ],
             [
              0.7777777777777778,
              "#fb9f3a"
             ],
             [
              0.8888888888888888,
              "#fdca26"
             ],
             [
              1,
              "#f0f921"
             ]
            ],
            "type": "surface"
           }
          ],
          "table": [
           {
            "cells": {
             "fill": {
              "color": "#EBF0F8"
             },
             "line": {
              "color": "white"
             }
            },
            "header": {
             "fill": {
              "color": "#C8D4E3"
             },
             "line": {
              "color": "white"
             }
            },
            "type": "table"
           }
          ]
         },
         "layout": {
          "annotationdefaults": {
           "arrowcolor": "#2a3f5f",
           "arrowhead": 0,
           "arrowwidth": 1
          },
          "autotypenumbers": "strict",
          "coloraxis": {
           "colorbar": {
            "outlinewidth": 0,
            "ticks": ""
           }
          },
          "colorscale": {
           "diverging": [
            [
             0,
             "#8e0152"
            ],
            [
             0.1,
             "#c51b7d"
            ],
            [
             0.2,
             "#de77ae"
            ],
            [
             0.3,
             "#f1b6da"
            ],
            [
             0.4,
             "#fde0ef"
            ],
            [
             0.5,
             "#f7f7f7"
            ],
            [
             0.6,
             "#e6f5d0"
            ],
            [
             0.7,
             "#b8e186"
            ],
            [
             0.8,
             "#7fbc41"
            ],
            [
             0.9,
             "#4d9221"
            ],
            [
             1,
             "#276419"
            ]
           ],
           "sequential": [
            [
             0,
             "#0d0887"
            ],
            [
             0.1111111111111111,
             "#46039f"
            ],
            [
             0.2222222222222222,
             "#7201a8"
            ],
            [
             0.3333333333333333,
             "#9c179e"
            ],
            [
             0.4444444444444444,
             "#bd3786"
            ],
            [
             0.5555555555555556,
             "#d8576b"
            ],
            [
             0.6666666666666666,
             "#ed7953"
            ],
            [
             0.7777777777777778,
             "#fb9f3a"
            ],
            [
             0.8888888888888888,
             "#fdca26"
            ],
            [
             1,
             "#f0f921"
            ]
           ],
           "sequentialminus": [
            [
             0,
             "#0d0887"
            ],
            [
             0.1111111111111111,
             "#46039f"
            ],
            [
             0.2222222222222222,
             "#7201a8"
            ],
            [
             0.3333333333333333,
             "#9c179e"
            ],
            [
             0.4444444444444444,
             "#bd3786"
            ],
            [
             0.5555555555555556,
             "#d8576b"
            ],
            [
             0.6666666666666666,
             "#ed7953"
            ],
            [
             0.7777777777777778,
             "#fb9f3a"
            ],
            [
             0.8888888888888888,
             "#fdca26"
            ],
            [
             1,
             "#f0f921"
            ]
           ]
          },
          "colorway": [
           "#636efa",
           "#EF553B",
           "#00cc96",
           "#ab63fa",
           "#FFA15A",
           "#19d3f3",
           "#FF6692",
           "#B6E880",
           "#FF97FF",
           "#FECB52"
          ],
          "font": {
           "color": "#2a3f5f"
          },
          "geo": {
           "bgcolor": "white",
           "lakecolor": "white",
           "landcolor": "#E5ECF6",
           "showlakes": true,
           "showland": true,
           "subunitcolor": "white"
          },
          "hoverlabel": {
           "align": "left"
          },
          "hovermode": "closest",
          "mapbox": {
           "style": "light"
          },
          "paper_bgcolor": "white",
          "plot_bgcolor": "#E5ECF6",
          "polar": {
           "angularaxis": {
            "gridcolor": "white",
            "linecolor": "white",
            "ticks": ""
           },
           "bgcolor": "#E5ECF6",
           "radialaxis": {
            "gridcolor": "white",
            "linecolor": "white",
            "ticks": ""
           }
          },
          "scene": {
           "xaxis": {
            "backgroundcolor": "#E5ECF6",
            "gridcolor": "white",
            "gridwidth": 2,
            "linecolor": "white",
            "showbackground": true,
            "ticks": "",
            "zerolinecolor": "white"
           },
           "yaxis": {
            "backgroundcolor": "#E5ECF6",
            "gridcolor": "white",
            "gridwidth": 2,
            "linecolor": "white",
            "showbackground": true,
            "ticks": "",
            "zerolinecolor": "white"
           },
           "zaxis": {
            "backgroundcolor": "#E5ECF6",
            "gridcolor": "white",
            "gridwidth": 2,
            "linecolor": "white",
            "showbackground": true,
            "ticks": "",
            "zerolinecolor": "white"
           }
          },
          "shapedefaults": {
           "line": {
            "color": "#2a3f5f"
           }
          },
          "ternary": {
           "aaxis": {
            "gridcolor": "white",
            "linecolor": "white",
            "ticks": ""
           },
           "baxis": {
            "gridcolor": "white",
            "linecolor": "white",
            "ticks": ""
           },
           "bgcolor": "#E5ECF6",
           "caxis": {
            "gridcolor": "white",
            "linecolor": "white",
            "ticks": ""
           }
          },
          "title": {
           "x": 0.05
          },
          "xaxis": {
           "automargin": true,
           "gridcolor": "white",
           "linecolor": "white",
           "ticks": "",
           "title": {
            "standoff": 15
           },
           "zerolinecolor": "white",
           "zerolinewidth": 2
          },
          "yaxis": {
           "automargin": true,
           "gridcolor": "white",
           "linecolor": "white",
           "ticks": "",
           "title": {
            "standoff": 15
           },
           "zerolinecolor": "white",
           "zerolinewidth": 2
          }
         }
        }
       }
      }
     },
     "metadata": {},
     "output_type": "display_data"
    }
   ],
   "source": [
    "import pandas as pd\n",
    "import plotly.express as px\n",
    "\n",
    "# Read the aggregated transaction data\n",
    "df = pd.read_csv(\"D:\\\\Saravanesh Personal\\\\Guvi\\\\Capstone Projects\\\\Phonepe\\\\process_dataframe\\\\agg_trans.csv\")\n",
    "\n",
    "# Filter the DataFrame to include only the 'State' and 'Transaction_amount' columns\n",
    "df_filtered = df[['State', 'Transacion_amount']]\n",
    "df_final=df_filtered.groupby('State')['Transacion_amount'].sum().reset_index()\n",
    "df_final.columns=['State','Total_Transaction_amount']\n",
    "\n",
    "# Load the India states GeoJSON data\n",
    "geojson_url = \"https://gist.githubusercontent.com/jbrobst/56c13bbbf9d97d187fea01ca62ea5112/raw/e388c4cae20aa53cb5090210a42ebb9b765c0a36/india_states.geojson\"\n",
    "              \n",
    "\n",
    "# Create the choropleth plot\n",
    "fig = px.choropleth(\n",
    "    df_final,\n",
    "    geojson=geojson_url,\n",
    "    featureidkey='properties.ST_NM',\n",
    "    locations='State',\n",
    "    color='Total_Transaction_amount',\n",
    "    color_continuous_scale='Reds',\n",
    "    hover_name='State',  # Display the state name when hovering\n",
    "    hover_data={'Total_Transaction_amount': ':,.2f'},  # Format transaction amount with comma and two decimal places\n",
    ")\n",
    "\n",
    "# Update layout to customize hover label\n",
    "fig.update_layout(\n",
    "    hoverlabel=dict(bgcolor=\"white\", font_size=16, font_family=\"Rockwell\")\n",
    ")\n",
    "\n",
    "# Update geos to fit bounds\n",
    "fig.update_geos(fitbounds=\"locations\", visible=False)\n",
    "\n",
    "\n",
    "# Show the plot\n",
    "fig.show()"
   ]
  },
  {
   "cell_type": "code",
   "execution_count": 13,
   "metadata": {},
   "outputs": [],
   "source": [
    "df_final=df_filtered.groupby('State')['Transacion_amount'].sum().reset_index()"
   ]
  },
  {
   "cell_type": "code",
   "execution_count": 15,
   "metadata": {},
   "outputs": [],
   "source": [
    "df_final.columns=['State','Total_Transaction_amount']"
   ]
  },
  {
   "cell_type": "code",
   "execution_count": 23,
   "metadata": {},
   "outputs": [
    {
     "data": {
      "text/plain": [
       "36"
      ]
     },
     "execution_count": 23,
     "metadata": {},
     "output_type": "execute_result"
    }
   ],
   "source": [
    "len(list(df_final['State']))"
   ]
  },
  {
   "cell_type": "code",
   "execution_count": 25,
   "metadata": {},
   "outputs": [],
   "source": [
    "my_st_nm=list(df_final['State'])"
   ]
  },
  {
   "cell_type": "code",
   "execution_count": 26,
   "metadata": {},
   "outputs": [
    {
     "name": "stdout",
     "output_type": "stream",
     "text": [
      "['andaman-&-nicobar-islands', 'andhra-pradesh', 'arunachal-pradesh', 'assam', 'bihar', 'chandigarh', 'chhattisgarh', 'dadra-&-nagar-haveli-&-daman-&-diu', 'delhi', 'goa', 'gujarat', 'haryana', 'himachal-pradesh', 'jammu-&-kashmir', 'jharkhand', 'karnataka', 'kerala', 'ladakh', 'lakshadweep', 'madhya-pradesh', 'maharashtra', 'manipur', 'meghalaya', 'mizoram', 'nagaland', 'odisha', 'puducherry', 'punjab', 'rajasthan', 'sikkim', 'tamil-nadu', 'telangana', 'tripura', 'uttar-pradesh', 'uttarakhand', 'west-bengal']\n"
     ]
    }
   ],
   "source": [
    "print(my_st_nm)"
   ]
  },
  {
   "cell_type": "code",
   "execution_count": 21,
   "metadata": {},
   "outputs": [
    {
     "name": "stdout",
     "output_type": "stream",
     "text": [
      "['Arunachal Pradesh', 'Assam', 'Chandigarh', 'Karnataka', 'Manipur', 'Meghalaya', 'Mizoram', 'Nagaland', 'Punjab', 'Rajasthan', 'Sikkim', 'Tripura', 'Uttarakhand', 'Telangana', 'Bihar', 'Kerala', 'Madhya Pradesh', 'Andaman & Nicobar', 'Gujarat', 'Lakshadweep', 'Odisha', 'Dadra and Nagar Haveli and Daman and Diu', 'Ladakh', 'Jammu & Kashmir', 'Chhattisgarh', 'Delhi', 'Goa', 'Haryana', 'Himachal Pradesh', 'Jharkhand', 'Tamil Nadu', 'Uttar Pradesh', 'West Bengal', 'Andhra Pradesh', 'Puducherry', 'Maharashtra']\n"
     ]
    }
   ],
   "source": [
    "import requests\n",
    "\n",
    "# GeoJSON URL\n",
    "geojson_url = \"https://gist.githubusercontent.com/jbrobst/56c13bbbf9d97d187fea01ca62ea5112/raw/e388c4cae20aa53cb5090210a42ebb9b765c0a36/india_states.geojson\"\n",
    "\n",
    "# Fetch the GeoJSON data\n",
    "response = requests.get(geojson_url)\n",
    "geojson_data = response.json()\n",
    "\n",
    "# Extract the ST_NM values\n",
    "st_nm_values = [feature[\"properties\"][\"ST_NM\"] for feature in geojson_data[\"features\"]]\n",
    "\n",
    "# Print the list of ST_NM values\n",
    "print(st_nm_values)\n"
   ]
  },
  {
   "cell_type": "code",
   "execution_count": 22,
   "metadata": {},
   "outputs": [
    {
     "data": {
      "text/plain": [
       "36"
      ]
     },
     "execution_count": 22,
     "metadata": {},
     "output_type": "execute_result"
    }
   ],
   "source": [
    "len(st_nm_values)"
   ]
  },
  {
   "cell_type": "code",
   "execution_count": 27,
   "metadata": {},
   "outputs": [
    {
     "data": {
      "text/html": [
       "<div>\n",
       "<style scoped>\n",
       "    .dataframe tbody tr th:only-of-type {\n",
       "        vertical-align: middle;\n",
       "    }\n",
       "\n",
       "    .dataframe tbody tr th {\n",
       "        vertical-align: top;\n",
       "    }\n",
       "\n",
       "    .dataframe thead th {\n",
       "        text-align: right;\n",
       "    }\n",
       "</style>\n",
       "<table border=\"1\" class=\"dataframe\">\n",
       "  <thead>\n",
       "    <tr style=\"text-align: right;\">\n",
       "      <th></th>\n",
       "      <th>State</th>\n",
       "      <th>Total_Transaction_amount</th>\n",
       "    </tr>\n",
       "  </thead>\n",
       "  <tbody>\n",
       "    <tr>\n",
       "      <th>0</th>\n",
       "      <td>andaman-&amp;-nicobar-islands</td>\n",
       "      <td>3.992773e+10</td>\n",
       "    </tr>\n",
       "    <tr>\n",
       "      <th>1</th>\n",
       "      <td>andhra-pradesh</td>\n",
       "      <td>2.179577e+13</td>\n",
       "    </tr>\n",
       "    <tr>\n",
       "      <th>2</th>\n",
       "      <td>arunachal-pradesh</td>\n",
       "      <td>1.519997e+11</td>\n",
       "    </tr>\n",
       "    <tr>\n",
       "      <th>3</th>\n",
       "      <td>assam</td>\n",
       "      <td>2.077955e+12</td>\n",
       "    </tr>\n",
       "    <tr>\n",
       "      <th>4</th>\n",
       "      <td>bihar</td>\n",
       "      <td>1.049756e+13</td>\n",
       "    </tr>\n",
       "    <tr>\n",
       "      <th>5</th>\n",
       "      <td>chandigarh</td>\n",
       "      <td>2.197469e+11</td>\n",
       "    </tr>\n",
       "    <tr>\n",
       "      <th>6</th>\n",
       "      <td>chhattisgarh</td>\n",
       "      <td>2.856960e+12</td>\n",
       "    </tr>\n",
       "    <tr>\n",
       "      <th>7</th>\n",
       "      <td>dadra-&amp;-nagar-haveli-&amp;-daman-&amp;-diu</td>\n",
       "      <td>1.163618e+11</td>\n",
       "    </tr>\n",
       "    <tr>\n",
       "      <th>8</th>\n",
       "      <td>delhi</td>\n",
       "      <td>7.892825e+12</td>\n",
       "    </tr>\n",
       "    <tr>\n",
       "      <th>9</th>\n",
       "      <td>goa</td>\n",
       "      <td>3.157383e+11</td>\n",
       "    </tr>\n",
       "    <tr>\n",
       "      <th>10</th>\n",
       "      <td>gujarat</td>\n",
       "      <td>6.371095e+12</td>\n",
       "    </tr>\n",
       "    <tr>\n",
       "      <th>11</th>\n",
       "      <td>haryana</td>\n",
       "      <td>5.977638e+12</td>\n",
       "    </tr>\n",
       "    <tr>\n",
       "      <th>12</th>\n",
       "      <td>himachal-pradesh</td>\n",
       "      <td>4.594504e+11</td>\n",
       "    </tr>\n",
       "    <tr>\n",
       "      <th>13</th>\n",
       "      <td>jammu-&amp;-kashmir</td>\n",
       "      <td>6.562392e+11</td>\n",
       "    </tr>\n",
       "    <tr>\n",
       "      <th>14</th>\n",
       "      <td>jharkhand</td>\n",
       "      <td>3.412890e+12</td>\n",
       "    </tr>\n",
       "    <tr>\n",
       "      <th>15</th>\n",
       "      <td>karnataka</td>\n",
       "      <td>2.534942e+13</td>\n",
       "    </tr>\n",
       "    <tr>\n",
       "      <th>16</th>\n",
       "      <td>kerala</td>\n",
       "      <td>2.075245e+12</td>\n",
       "    </tr>\n",
       "    <tr>\n",
       "      <th>17</th>\n",
       "      <td>ladakh</td>\n",
       "      <td>4.927622e+10</td>\n",
       "    </tr>\n",
       "    <tr>\n",
       "      <th>18</th>\n",
       "      <td>lakshadweep</td>\n",
       "      <td>8.928908e+08</td>\n",
       "    </tr>\n",
       "    <tr>\n",
       "      <th>19</th>\n",
       "      <td>madhya-pradesh</td>\n",
       "      <td>1.195579e+13</td>\n",
       "    </tr>\n",
       "    <tr>\n",
       "      <th>20</th>\n",
       "      <td>maharashtra</td>\n",
       "      <td>2.558981e+13</td>\n",
       "    </tr>\n",
       "    <tr>\n",
       "      <th>21</th>\n",
       "      <td>manipur</td>\n",
       "      <td>1.423914e+11</td>\n",
       "    </tr>\n",
       "    <tr>\n",
       "      <th>22</th>\n",
       "      <td>meghalaya</td>\n",
       "      <td>9.415210e+10</td>\n",
       "    </tr>\n",
       "    <tr>\n",
       "      <th>23</th>\n",
       "      <td>mizoram</td>\n",
       "      <td>3.028848e+10</td>\n",
       "    </tr>\n",
       "    <tr>\n",
       "      <th>24</th>\n",
       "      <td>nagaland</td>\n",
       "      <td>8.306035e+10</td>\n",
       "    </tr>\n",
       "    <tr>\n",
       "      <th>25</th>\n",
       "      <td>odisha</td>\n",
       "      <td>7.460063e+12</td>\n",
       "    </tr>\n",
       "    <tr>\n",
       "      <th>26</th>\n",
       "      <td>puducherry</td>\n",
       "      <td>1.621882e+11</td>\n",
       "    </tr>\n",
       "    <tr>\n",
       "      <th>27</th>\n",
       "      <td>punjab</td>\n",
       "      <td>1.970098e+12</td>\n",
       "    </tr>\n",
       "    <tr>\n",
       "      <th>28</th>\n",
       "      <td>rajasthan</td>\n",
       "      <td>1.623033e+13</td>\n",
       "    </tr>\n",
       "    <tr>\n",
       "      <th>29</th>\n",
       "      <td>sikkim</td>\n",
       "      <td>7.498223e+10</td>\n",
       "    </tr>\n",
       "    <tr>\n",
       "      <th>30</th>\n",
       "      <td>tamil-nadu</td>\n",
       "      <td>7.898794e+12</td>\n",
       "    </tr>\n",
       "    <tr>\n",
       "      <th>31</th>\n",
       "      <td>telangana</td>\n",
       "      <td>2.758028e+13</td>\n",
       "    </tr>\n",
       "    <tr>\n",
       "      <th>32</th>\n",
       "      <td>tripura</td>\n",
       "      <td>1.223350e+11</td>\n",
       "    </tr>\n",
       "    <tr>\n",
       "      <th>33</th>\n",
       "      <td>uttar-pradesh</td>\n",
       "      <td>1.577186e+13</td>\n",
       "    </tr>\n",
       "    <tr>\n",
       "      <th>34</th>\n",
       "      <td>uttarakhand</td>\n",
       "      <td>1.217275e+12</td>\n",
       "    </tr>\n",
       "    <tr>\n",
       "      <th>35</th>\n",
       "      <td>west-bengal</td>\n",
       "      <td>9.197051e+12</td>\n",
       "    </tr>\n",
       "  </tbody>\n",
       "</table>\n",
       "</div>"
      ],
      "text/plain": [
       "                                 State  Total_Transaction_amount\n",
       "0            andaman-&-nicobar-islands              3.992773e+10\n",
       "1                       andhra-pradesh              2.179577e+13\n",
       "2                    arunachal-pradesh              1.519997e+11\n",
       "3                                assam              2.077955e+12\n",
       "4                                bihar              1.049756e+13\n",
       "5                           chandigarh              2.197469e+11\n",
       "6                         chhattisgarh              2.856960e+12\n",
       "7   dadra-&-nagar-haveli-&-daman-&-diu              1.163618e+11\n",
       "8                                delhi              7.892825e+12\n",
       "9                                  goa              3.157383e+11\n",
       "10                             gujarat              6.371095e+12\n",
       "11                             haryana              5.977638e+12\n",
       "12                    himachal-pradesh              4.594504e+11\n",
       "13                     jammu-&-kashmir              6.562392e+11\n",
       "14                           jharkhand              3.412890e+12\n",
       "15                           karnataka              2.534942e+13\n",
       "16                              kerala              2.075245e+12\n",
       "17                              ladakh              4.927622e+10\n",
       "18                         lakshadweep              8.928908e+08\n",
       "19                      madhya-pradesh              1.195579e+13\n",
       "20                         maharashtra              2.558981e+13\n",
       "21                             manipur              1.423914e+11\n",
       "22                           meghalaya              9.415210e+10\n",
       "23                             mizoram              3.028848e+10\n",
       "24                            nagaland              8.306035e+10\n",
       "25                              odisha              7.460063e+12\n",
       "26                          puducherry              1.621882e+11\n",
       "27                              punjab              1.970098e+12\n",
       "28                           rajasthan              1.623033e+13\n",
       "29                              sikkim              7.498223e+10\n",
       "30                          tamil-nadu              7.898794e+12\n",
       "31                           telangana              2.758028e+13\n",
       "32                             tripura              1.223350e+11\n",
       "33                       uttar-pradesh              1.577186e+13\n",
       "34                         uttarakhand              1.217275e+12\n",
       "35                         west-bengal              9.197051e+12"
      ]
     },
     "execution_count": 27,
     "metadata": {},
     "output_type": "execute_result"
    }
   ],
   "source": [
    "df_final"
   ]
  },
  {
   "cell_type": "code",
   "execution_count": 2,
   "metadata": {},
   "outputs": [],
   "source": [
    "import pandas as pd"
   ]
  },
  {
   "cell_type": "code",
   "execution_count": 3,
   "metadata": {},
   "outputs": [
    {
     "data": {
      "text/html": [
       "<div>\n",
       "<style scoped>\n",
       "    .dataframe tbody tr th:only-of-type {\n",
       "        vertical-align: middle;\n",
       "    }\n",
       "\n",
       "    .dataframe tbody tr th {\n",
       "        vertical-align: top;\n",
       "    }\n",
       "\n",
       "    .dataframe thead th {\n",
       "        text-align: right;\n",
       "    }\n",
       "</style>\n",
       "<table border=\"1\" class=\"dataframe\">\n",
       "  <thead>\n",
       "    <tr style=\"text-align: right;\">\n",
       "      <th></th>\n",
       "      <th>State</th>\n",
       "      <th>Year</th>\n",
       "      <th>Quater</th>\n",
       "      <th>Transacion_type</th>\n",
       "      <th>Transacion_count</th>\n",
       "      <th>Transacion_amount</th>\n",
       "    </tr>\n",
       "  </thead>\n",
       "  <tbody>\n",
       "    <tr>\n",
       "      <th>0</th>\n",
       "      <td>andaman-&amp;-nicobar-islands</td>\n",
       "      <td>2018</td>\n",
       "      <td>1</td>\n",
       "      <td>Recharge &amp; bill payments</td>\n",
       "      <td>4200</td>\n",
       "      <td>1.845307e+06</td>\n",
       "    </tr>\n",
       "    <tr>\n",
       "      <th>1</th>\n",
       "      <td>andaman-&amp;-nicobar-islands</td>\n",
       "      <td>2018</td>\n",
       "      <td>1</td>\n",
       "      <td>Peer-to-peer payments</td>\n",
       "      <td>1871</td>\n",
       "      <td>1.213866e+07</td>\n",
       "    </tr>\n",
       "    <tr>\n",
       "      <th>2</th>\n",
       "      <td>andaman-&amp;-nicobar-islands</td>\n",
       "      <td>2018</td>\n",
       "      <td>1</td>\n",
       "      <td>Merchant payments</td>\n",
       "      <td>298</td>\n",
       "      <td>4.525072e+05</td>\n",
       "    </tr>\n",
       "    <tr>\n",
       "      <th>3</th>\n",
       "      <td>andaman-&amp;-nicobar-islands</td>\n",
       "      <td>2018</td>\n",
       "      <td>1</td>\n",
       "      <td>Financial Services</td>\n",
       "      <td>33</td>\n",
       "      <td>1.060142e+04</td>\n",
       "    </tr>\n",
       "    <tr>\n",
       "      <th>4</th>\n",
       "      <td>andaman-&amp;-nicobar-islands</td>\n",
       "      <td>2018</td>\n",
       "      <td>1</td>\n",
       "      <td>Others</td>\n",
       "      <td>256</td>\n",
       "      <td>1.846899e+05</td>\n",
       "    </tr>\n",
       "    <tr>\n",
       "      <th>...</th>\n",
       "      <td>...</td>\n",
       "      <td>...</td>\n",
       "      <td>...</td>\n",
       "      <td>...</td>\n",
       "      <td>...</td>\n",
       "      <td>...</td>\n",
       "    </tr>\n",
       "    <tr>\n",
       "      <th>4309</th>\n",
       "      <td>west-bengal</td>\n",
       "      <td>2023</td>\n",
       "      <td>4</td>\n",
       "      <td>Merchant payments</td>\n",
       "      <td>354067997</td>\n",
       "      <td>2.390738e+11</td>\n",
       "    </tr>\n",
       "    <tr>\n",
       "      <th>4310</th>\n",
       "      <td>west-bengal</td>\n",
       "      <td>2023</td>\n",
       "      <td>4</td>\n",
       "      <td>Peer-to-peer payments</td>\n",
       "      <td>317959249</td>\n",
       "      <td>9.641385e+11</td>\n",
       "    </tr>\n",
       "    <tr>\n",
       "      <th>4311</th>\n",
       "      <td>west-bengal</td>\n",
       "      <td>2023</td>\n",
       "      <td>4</td>\n",
       "      <td>Recharge &amp; bill payments</td>\n",
       "      <td>64920775</td>\n",
       "      <td>4.531943e+10</td>\n",
       "    </tr>\n",
       "    <tr>\n",
       "      <th>4312</th>\n",
       "      <td>west-bengal</td>\n",
       "      <td>2023</td>\n",
       "      <td>4</td>\n",
       "      <td>Financial Services</td>\n",
       "      <td>480740</td>\n",
       "      <td>4.590073e+08</td>\n",
       "    </tr>\n",
       "    <tr>\n",
       "      <th>4313</th>\n",
       "      <td>west-bengal</td>\n",
       "      <td>2023</td>\n",
       "      <td>4</td>\n",
       "      <td>Others</td>\n",
       "      <td>524477</td>\n",
       "      <td>4.041567e+08</td>\n",
       "    </tr>\n",
       "  </tbody>\n",
       "</table>\n",
       "<p>4314 rows × 6 columns</p>\n",
       "</div>"
      ],
      "text/plain": [
       "                          State  Year  Quater           Transacion_type  \\\n",
       "0     andaman-&-nicobar-islands  2018       1  Recharge & bill payments   \n",
       "1     andaman-&-nicobar-islands  2018       1     Peer-to-peer payments   \n",
       "2     andaman-&-nicobar-islands  2018       1         Merchant payments   \n",
       "3     andaman-&-nicobar-islands  2018       1        Financial Services   \n",
       "4     andaman-&-nicobar-islands  2018       1                    Others   \n",
       "...                         ...   ...     ...                       ...   \n",
       "4309                west-bengal  2023       4         Merchant payments   \n",
       "4310                west-bengal  2023       4     Peer-to-peer payments   \n",
       "4311                west-bengal  2023       4  Recharge & bill payments   \n",
       "4312                west-bengal  2023       4        Financial Services   \n",
       "4313                west-bengal  2023       4                    Others   \n",
       "\n",
       "      Transacion_count  Transacion_amount  \n",
       "0                 4200       1.845307e+06  \n",
       "1                 1871       1.213866e+07  \n",
       "2                  298       4.525072e+05  \n",
       "3                   33       1.060142e+04  \n",
       "4                  256       1.846899e+05  \n",
       "...                ...                ...  \n",
       "4309         354067997       2.390738e+11  \n",
       "4310         317959249       9.641385e+11  \n",
       "4311          64920775       4.531943e+10  \n",
       "4312            480740       4.590073e+08  \n",
       "4313            524477       4.041567e+08  \n",
       "\n",
       "[4314 rows x 6 columns]"
      ]
     },
     "execution_count": 3,
     "metadata": {},
     "output_type": "execute_result"
    }
   ],
   "source": [
    "df = pd.read_csv(\"D:\\\\Saravanesh Personal\\\\Guvi\\\\Capstone Projects\\\\Phonepe\\\\process_dataframe\\\\agg_trans.csv\")\n",
    "df"
   ]
  },
  {
   "cell_type": "code",
   "execution_count": null,
   "metadata": {},
   "outputs": [],
   "source": []
  },
  {
   "cell_type": "code",
   "execution_count": null,
   "metadata": {},
   "outputs": [],
   "source": []
  },
  {
   "cell_type": "code",
   "execution_count": null,
   "metadata": {},
   "outputs": [],
   "source": []
  },
  {
   "cell_type": "code",
   "execution_count": null,
   "metadata": {},
   "outputs": [],
   "source": []
  },
  {
   "cell_type": "code",
   "execution_count": 28,
   "metadata": {},
   "outputs": [],
   "source": [
    "# Define the mapping dictionary\n",
    "state_mapping = {\n",
    "    'andaman-&-nicobar-islands': 'Andaman & Nicobar',\n",
    "    'andhra-pradesh': 'Andhra Pradesh',\n",
    "    'arunachal-pradesh': 'Arunachal Pradesh',\n",
    "    'assam': 'Assam',\n",
    "    'bihar': 'Bihar',\n",
    "    'chandigarh': 'Chandigarh',\n",
    "    'chhattisgarh': 'Chhattisgarh',\n",
    "    'dadra-&-nagar-haveli-&-daman-&-diu': 'Dadra and Nagar Haveli and Daman and Diu',\n",
    "    'delhi': 'Delhi',\n",
    "    'goa': 'Goa',\n",
    "    'gujarat': 'Gujarat',\n",
    "    'haryana': 'Haryana',\n",
    "    'himachal-pradesh': 'Himachal Pradesh',\n",
    "    'jammu-&-kashmir': 'Jammu & Kashmir',\n",
    "    'jharkhand': 'Jharkhand',\n",
    "    'karnataka': 'Karnataka',\n",
    "    'kerala': 'Kerala',\n",
    "    'ladakh': 'Ladakh',\n",
    "    'lakshadweep': 'Lakshadweep',\n",
    "    'madhya-pradesh': 'Madhya Pradesh',\n",
    "    'maharashtra': 'Maharashtra',\n",
    "    'manipur': 'Manipur',\n",
    "    'meghalaya': 'Meghalaya',\n",
    "    'mizoram': 'Mizoram',\n",
    "    'nagaland': 'Nagaland',\n",
    "    'odisha': 'Odisha',\n",
    "    'puducherry': 'Puducherry',\n",
    "    'punjab': 'Punjab',\n",
    "    'rajasthan': 'Rajasthan',\n",
    "    'sikkim': 'Sikkim',\n",
    "    'tamil-nadu': 'Tamil Nadu',\n",
    "    'telangana': 'Telangana',\n",
    "    'tripura': 'Tripura',\n",
    "    'uttar-pradesh': 'Uttar Pradesh',\n",
    "    'uttarakhand': 'Uttarakhand',\n",
    "    'west-bengal': 'West Bengal'\n",
    "}\n",
    "\n",
    "# Update the state names in the DataFrame\n",
    "df_final['State'] = df_final['State'].map(state_mapping)\n"
   ]
  },
  {
   "cell_type": "code",
   "execution_count": 29,
   "metadata": {},
   "outputs": [
    {
     "data": {
      "text/html": [
       "<div>\n",
       "<style scoped>\n",
       "    .dataframe tbody tr th:only-of-type {\n",
       "        vertical-align: middle;\n",
       "    }\n",
       "\n",
       "    .dataframe tbody tr th {\n",
       "        vertical-align: top;\n",
       "    }\n",
       "\n",
       "    .dataframe thead th {\n",
       "        text-align: right;\n",
       "    }\n",
       "</style>\n",
       "<table border=\"1\" class=\"dataframe\">\n",
       "  <thead>\n",
       "    <tr style=\"text-align: right;\">\n",
       "      <th></th>\n",
       "      <th>State</th>\n",
       "      <th>Total_Transaction_amount</th>\n",
       "    </tr>\n",
       "  </thead>\n",
       "  <tbody>\n",
       "    <tr>\n",
       "      <th>0</th>\n",
       "      <td>Andaman &amp; Nicobar</td>\n",
       "      <td>3.992773e+10</td>\n",
       "    </tr>\n",
       "    <tr>\n",
       "      <th>1</th>\n",
       "      <td>Andhra Pradesh</td>\n",
       "      <td>2.179577e+13</td>\n",
       "    </tr>\n",
       "    <tr>\n",
       "      <th>2</th>\n",
       "      <td>Arunachal Pradesh</td>\n",
       "      <td>1.519997e+11</td>\n",
       "    </tr>\n",
       "    <tr>\n",
       "      <th>3</th>\n",
       "      <td>Assam</td>\n",
       "      <td>2.077955e+12</td>\n",
       "    </tr>\n",
       "    <tr>\n",
       "      <th>4</th>\n",
       "      <td>Bihar</td>\n",
       "      <td>1.049756e+13</td>\n",
       "    </tr>\n",
       "    <tr>\n",
       "      <th>5</th>\n",
       "      <td>Chandigarh</td>\n",
       "      <td>2.197469e+11</td>\n",
       "    </tr>\n",
       "    <tr>\n",
       "      <th>6</th>\n",
       "      <td>Chhattisgarh</td>\n",
       "      <td>2.856960e+12</td>\n",
       "    </tr>\n",
       "    <tr>\n",
       "      <th>7</th>\n",
       "      <td>Dadra and Nagar Haveli and Daman and Diu</td>\n",
       "      <td>1.163618e+11</td>\n",
       "    </tr>\n",
       "    <tr>\n",
       "      <th>8</th>\n",
       "      <td>Delhi</td>\n",
       "      <td>7.892825e+12</td>\n",
       "    </tr>\n",
       "    <tr>\n",
       "      <th>9</th>\n",
       "      <td>Goa</td>\n",
       "      <td>3.157383e+11</td>\n",
       "    </tr>\n",
       "    <tr>\n",
       "      <th>10</th>\n",
       "      <td>Gujarat</td>\n",
       "      <td>6.371095e+12</td>\n",
       "    </tr>\n",
       "    <tr>\n",
       "      <th>11</th>\n",
       "      <td>Haryana</td>\n",
       "      <td>5.977638e+12</td>\n",
       "    </tr>\n",
       "    <tr>\n",
       "      <th>12</th>\n",
       "      <td>Himachal Pradesh</td>\n",
       "      <td>4.594504e+11</td>\n",
       "    </tr>\n",
       "    <tr>\n",
       "      <th>13</th>\n",
       "      <td>Jammu &amp; Kashmir</td>\n",
       "      <td>6.562392e+11</td>\n",
       "    </tr>\n",
       "    <tr>\n",
       "      <th>14</th>\n",
       "      <td>Jharkhand</td>\n",
       "      <td>3.412890e+12</td>\n",
       "    </tr>\n",
       "    <tr>\n",
       "      <th>15</th>\n",
       "      <td>Karnataka</td>\n",
       "      <td>2.534942e+13</td>\n",
       "    </tr>\n",
       "    <tr>\n",
       "      <th>16</th>\n",
       "      <td>Kerala</td>\n",
       "      <td>2.075245e+12</td>\n",
       "    </tr>\n",
       "    <tr>\n",
       "      <th>17</th>\n",
       "      <td>Ladakh</td>\n",
       "      <td>4.927622e+10</td>\n",
       "    </tr>\n",
       "    <tr>\n",
       "      <th>18</th>\n",
       "      <td>Lakshadweep</td>\n",
       "      <td>8.928908e+08</td>\n",
       "    </tr>\n",
       "    <tr>\n",
       "      <th>19</th>\n",
       "      <td>Madhya Pradesh</td>\n",
       "      <td>1.195579e+13</td>\n",
       "    </tr>\n",
       "    <tr>\n",
       "      <th>20</th>\n",
       "      <td>Maharashtra</td>\n",
       "      <td>2.558981e+13</td>\n",
       "    </tr>\n",
       "    <tr>\n",
       "      <th>21</th>\n",
       "      <td>Manipur</td>\n",
       "      <td>1.423914e+11</td>\n",
       "    </tr>\n",
       "    <tr>\n",
       "      <th>22</th>\n",
       "      <td>Meghalaya</td>\n",
       "      <td>9.415210e+10</td>\n",
       "    </tr>\n",
       "    <tr>\n",
       "      <th>23</th>\n",
       "      <td>Mizoram</td>\n",
       "      <td>3.028848e+10</td>\n",
       "    </tr>\n",
       "    <tr>\n",
       "      <th>24</th>\n",
       "      <td>Nagaland</td>\n",
       "      <td>8.306035e+10</td>\n",
       "    </tr>\n",
       "    <tr>\n",
       "      <th>25</th>\n",
       "      <td>Odisha</td>\n",
       "      <td>7.460063e+12</td>\n",
       "    </tr>\n",
       "    <tr>\n",
       "      <th>26</th>\n",
       "      <td>Puducherry</td>\n",
       "      <td>1.621882e+11</td>\n",
       "    </tr>\n",
       "    <tr>\n",
       "      <th>27</th>\n",
       "      <td>Punjab</td>\n",
       "      <td>1.970098e+12</td>\n",
       "    </tr>\n",
       "    <tr>\n",
       "      <th>28</th>\n",
       "      <td>Rajasthan</td>\n",
       "      <td>1.623033e+13</td>\n",
       "    </tr>\n",
       "    <tr>\n",
       "      <th>29</th>\n",
       "      <td>Sikkim</td>\n",
       "      <td>7.498223e+10</td>\n",
       "    </tr>\n",
       "    <tr>\n",
       "      <th>30</th>\n",
       "      <td>Tamil Nadu</td>\n",
       "      <td>7.898794e+12</td>\n",
       "    </tr>\n",
       "    <tr>\n",
       "      <th>31</th>\n",
       "      <td>Telangana</td>\n",
       "      <td>2.758028e+13</td>\n",
       "    </tr>\n",
       "    <tr>\n",
       "      <th>32</th>\n",
       "      <td>Tripura</td>\n",
       "      <td>1.223350e+11</td>\n",
       "    </tr>\n",
       "    <tr>\n",
       "      <th>33</th>\n",
       "      <td>Uttar Pradesh</td>\n",
       "      <td>1.577186e+13</td>\n",
       "    </tr>\n",
       "    <tr>\n",
       "      <th>34</th>\n",
       "      <td>Uttarakhand</td>\n",
       "      <td>1.217275e+12</td>\n",
       "    </tr>\n",
       "    <tr>\n",
       "      <th>35</th>\n",
       "      <td>West Bengal</td>\n",
       "      <td>9.197051e+12</td>\n",
       "    </tr>\n",
       "  </tbody>\n",
       "</table>\n",
       "</div>"
      ],
      "text/plain": [
       "                                       State  Total_Transaction_amount\n",
       "0                          Andaman & Nicobar              3.992773e+10\n",
       "1                             Andhra Pradesh              2.179577e+13\n",
       "2                          Arunachal Pradesh              1.519997e+11\n",
       "3                                      Assam              2.077955e+12\n",
       "4                                      Bihar              1.049756e+13\n",
       "5                                 Chandigarh              2.197469e+11\n",
       "6                               Chhattisgarh              2.856960e+12\n",
       "7   Dadra and Nagar Haveli and Daman and Diu              1.163618e+11\n",
       "8                                      Delhi              7.892825e+12\n",
       "9                                        Goa              3.157383e+11\n",
       "10                                   Gujarat              6.371095e+12\n",
       "11                                   Haryana              5.977638e+12\n",
       "12                          Himachal Pradesh              4.594504e+11\n",
       "13                           Jammu & Kashmir              6.562392e+11\n",
       "14                                 Jharkhand              3.412890e+12\n",
       "15                                 Karnataka              2.534942e+13\n",
       "16                                    Kerala              2.075245e+12\n",
       "17                                    Ladakh              4.927622e+10\n",
       "18                               Lakshadweep              8.928908e+08\n",
       "19                            Madhya Pradesh              1.195579e+13\n",
       "20                               Maharashtra              2.558981e+13\n",
       "21                                   Manipur              1.423914e+11\n",
       "22                                 Meghalaya              9.415210e+10\n",
       "23                                   Mizoram              3.028848e+10\n",
       "24                                  Nagaland              8.306035e+10\n",
       "25                                    Odisha              7.460063e+12\n",
       "26                                Puducherry              1.621882e+11\n",
       "27                                    Punjab              1.970098e+12\n",
       "28                                 Rajasthan              1.623033e+13\n",
       "29                                    Sikkim              7.498223e+10\n",
       "30                                Tamil Nadu              7.898794e+12\n",
       "31                                 Telangana              2.758028e+13\n",
       "32                                   Tripura              1.223350e+11\n",
       "33                             Uttar Pradesh              1.577186e+13\n",
       "34                               Uttarakhand              1.217275e+12\n",
       "35                               West Bengal              9.197051e+12"
      ]
     },
     "execution_count": 29,
     "metadata": {},
     "output_type": "execute_result"
    }
   ],
   "source": [
    "df_final"
   ]
  },
  {
   "cell_type": "code",
   "execution_count": 36,
   "metadata": {},
   "outputs": [],
   "source": [
    "import json\n",
    "import os \n",
    "def agg_user_data_extract(file_path):\n",
    "\n",
    "        #This is to direct the path to get the data as states\n",
    "\n",
    "            # path=\"/content/pulse/data/aggregated/transaction/country/india/state/\"\n",
    "            path=file_path\n",
    "            Agg_state_list=os.listdir(path)\n",
    "            Agg_state_list\n",
    "            # print(f\"The aggregated state list is : {Agg_state_list}\")\n",
    "            #Agg_state_list--> to get the list of states in India\n",
    "\n",
    "            #<------------------------------------------------------------------------------------------------------------------------------------------------------------------------------------------------------------>#\n",
    "\n",
    "            #This is to extract the data's to create a dataframe\n",
    "\n",
    "            clm={'State':[], 'Year':[],'Quarter':[],'user_brand':[], 'user_count':[], 'user_percentage':[]}\n",
    "            clm_agg_app_open={'State':[], 'Year':[],'Quarter':[],'reg_users':[], 'app_opens':[]}\n",
    "\n",
    "            for i in Agg_state_list:\n",
    "                # print(f\"====================Starting Processing of state {i}=======================\")\n",
    "                p_i=path+i+\"\\\\\"\n",
    "                Agg_yr=os.listdir(p_i)\n",
    "                for j in Agg_yr:\n",
    "                    # print(f\"====================Starting Processing of year {j}=======================\")\n",
    "                    p_j=p_i+j+\"\\\\\"\n",
    "                    Agg_yr_list=os.listdir(p_j)\n",
    "                    for k in Agg_yr_list:\n",
    "                        # print(f\"====================Starting Processing of json {k}=======================\")\n",
    "                        p_k=p_j+k\n",
    "                        Data=open(p_k,'r')\n",
    "                        D=json.load(Data)\n",
    "                        # print(D['data']['usersByDevice'])\n",
    "                        # print(type(D['data']['usersByDevice']))\n",
    "                        clm_agg_app_open['State'].append(i)\n",
    "                        clm_agg_app_open['Year'].append(j)\n",
    "                        clm_agg_app_open['Quarter'].append(int(k.strip('.json')))\n",
    "                        clm_agg_app_open['reg_users'].append(D['data']['aggregated']['registeredUsers'])\n",
    "                        clm_agg_app_open['app_opens'].append(D['data']['aggregated']['appOpens'])\n",
    "                        if D['data']['usersByDevice'] is not None:\n",
    "                            for z in D['data']['usersByDevice']:\n",
    "                                brand=z['brand']\n",
    "                                count=z['count']\n",
    "                                percentage=z['percentage']\n",
    "                                clm['user_brand'].append(brand)\n",
    "                                clm['user_count'].append(count)\n",
    "                                clm['user_percentage'].append(percentage)\n",
    "                                clm['State'].append(i)\n",
    "                                clm['Year'].append(j)\n",
    "                                clm['Quarter'].append(int(k.strip('.json')))\n",
    "                        # else:\n",
    "                        #     clm['user_brand'].append(None)\n",
    "                        #     clm['user_count'].append(None)\n",
    "                        #     clm['user_percentage'].append(None)\n",
    "                        #     clm['State'].append(i)\n",
    "                        #     clm['Year'].append(j)\n",
    "                        #     clm['Quarter'].append(int(k.strip('.json')))\n",
    "            #Succesfully created a dataframe\n",
    "            Agg_User=pd.DataFrame(clm)\n",
    "            Agg_User_app_open=pd.DataFrame(clm_agg_app_open)\n",
    "\n",
    "            return Agg_User,Agg_User_app_open"
   ]
  },
  {
   "cell_type": "code",
   "execution_count": 37,
   "metadata": {},
   "outputs": [],
   "source": [
    "agg_user_df,Agg_User_app_open=agg_user_data_extract('D:\\\\Saravanesh Personal\\\\Guvi\\\\Capstone Projects\\\\Phonepe\\\\Data_Extraction\\\\Data\\\\data\\\\aggregated\\\\user\\\\country\\\\india\\\\state\\\\')"
   ]
  },
  {
   "cell_type": "code",
   "execution_count": 19,
   "metadata": {},
   "outputs": [
    {
     "data": {
      "text/html": [
       "<div>\n",
       "<style scoped>\n",
       "    .dataframe tbody tr th:only-of-type {\n",
       "        vertical-align: middle;\n",
       "    }\n",
       "\n",
       "    .dataframe tbody tr th {\n",
       "        vertical-align: top;\n",
       "    }\n",
       "\n",
       "    .dataframe thead th {\n",
       "        text-align: right;\n",
       "    }\n",
       "</style>\n",
       "<table border=\"1\" class=\"dataframe\">\n",
       "  <thead>\n",
       "    <tr style=\"text-align: right;\">\n",
       "      <th></th>\n",
       "      <th>State</th>\n",
       "      <th>Year</th>\n",
       "      <th>Quarter</th>\n",
       "      <th>user_brand</th>\n",
       "      <th>user_count</th>\n",
       "      <th>user_percentage</th>\n",
       "    </tr>\n",
       "  </thead>\n",
       "  <tbody>\n",
       "    <tr>\n",
       "      <th>194</th>\n",
       "      <td>andhra-pradesh</td>\n",
       "      <td>2018</td>\n",
       "      <td>1</td>\n",
       "      <td>Xiaomi</td>\n",
       "      <td>836581.0</td>\n",
       "      <td>0.250740</td>\n",
       "    </tr>\n",
       "    <tr>\n",
       "      <th>195</th>\n",
       "      <td>andhra-pradesh</td>\n",
       "      <td>2018</td>\n",
       "      <td>1</td>\n",
       "      <td>Samsung</td>\n",
       "      <td>683687.0</td>\n",
       "      <td>0.204915</td>\n",
       "    </tr>\n",
       "    <tr>\n",
       "      <th>196</th>\n",
       "      <td>andhra-pradesh</td>\n",
       "      <td>2018</td>\n",
       "      <td>1</td>\n",
       "      <td>Vivo</td>\n",
       "      <td>425959.0</td>\n",
       "      <td>0.127668</td>\n",
       "    </tr>\n",
       "    <tr>\n",
       "      <th>197</th>\n",
       "      <td>andhra-pradesh</td>\n",
       "      <td>2018</td>\n",
       "      <td>1</td>\n",
       "      <td>Oppo</td>\n",
       "      <td>304487.0</td>\n",
       "      <td>0.091261</td>\n",
       "    </tr>\n",
       "    <tr>\n",
       "      <th>198</th>\n",
       "      <td>andhra-pradesh</td>\n",
       "      <td>2018</td>\n",
       "      <td>1</td>\n",
       "      <td>Realme</td>\n",
       "      <td>236646.0</td>\n",
       "      <td>0.070927</td>\n",
       "    </tr>\n",
       "    <tr>\n",
       "      <th>199</th>\n",
       "      <td>andhra-pradesh</td>\n",
       "      <td>2018</td>\n",
       "      <td>1</td>\n",
       "      <td>Motorola</td>\n",
       "      <td>129739.0</td>\n",
       "      <td>0.038885</td>\n",
       "    </tr>\n",
       "    <tr>\n",
       "      <th>200</th>\n",
       "      <td>andhra-pradesh</td>\n",
       "      <td>2018</td>\n",
       "      <td>1</td>\n",
       "      <td>OnePlus</td>\n",
       "      <td>129421.0</td>\n",
       "      <td>0.038790</td>\n",
       "    </tr>\n",
       "    <tr>\n",
       "      <th>201</th>\n",
       "      <td>andhra-pradesh</td>\n",
       "      <td>2018</td>\n",
       "      <td>1</td>\n",
       "      <td>Apple</td>\n",
       "      <td>123274.0</td>\n",
       "      <td>0.036948</td>\n",
       "    </tr>\n",
       "    <tr>\n",
       "      <th>202</th>\n",
       "      <td>andhra-pradesh</td>\n",
       "      <td>2018</td>\n",
       "      <td>1</td>\n",
       "      <td>Lenovo</td>\n",
       "      <td>84138.0</td>\n",
       "      <td>0.025218</td>\n",
       "    </tr>\n",
       "    <tr>\n",
       "      <th>203</th>\n",
       "      <td>andhra-pradesh</td>\n",
       "      <td>2018</td>\n",
       "      <td>1</td>\n",
       "      <td>Huawei</td>\n",
       "      <td>76654.0</td>\n",
       "      <td>0.022975</td>\n",
       "    </tr>\n",
       "    <tr>\n",
       "      <th>204</th>\n",
       "      <td>andhra-pradesh</td>\n",
       "      <td>2018</td>\n",
       "      <td>1</td>\n",
       "      <td>Others</td>\n",
       "      <td>305864.0</td>\n",
       "      <td>0.091673</td>\n",
       "    </tr>\n",
       "  </tbody>\n",
       "</table>\n",
       "</div>"
      ],
      "text/plain": [
       "              State  Year  Quarter user_brand  user_count  user_percentage\n",
       "194  andhra-pradesh  2018        1     Xiaomi    836581.0         0.250740\n",
       "195  andhra-pradesh  2018        1    Samsung    683687.0         0.204915\n",
       "196  andhra-pradesh  2018        1       Vivo    425959.0         0.127668\n",
       "197  andhra-pradesh  2018        1       Oppo    304487.0         0.091261\n",
       "198  andhra-pradesh  2018        1     Realme    236646.0         0.070927\n",
       "199  andhra-pradesh  2018        1   Motorola    129739.0         0.038885\n",
       "200  andhra-pradesh  2018        1    OnePlus    129421.0         0.038790\n",
       "201  andhra-pradesh  2018        1      Apple    123274.0         0.036948\n",
       "202  andhra-pradesh  2018        1     Lenovo     84138.0         0.025218\n",
       "203  andhra-pradesh  2018        1     Huawei     76654.0         0.022975\n",
       "204  andhra-pradesh  2018        1     Others    305864.0         0.091673"
      ]
     },
     "execution_count": 19,
     "metadata": {},
     "output_type": "execute_result"
    }
   ],
   "source": [
    "agg_user_df[(agg_user_df['Year']=='2018') & (agg_user_df['Quarter']==1) & (agg_user_df['State']=='andhra-pradesh')]"
   ]
  },
  {
   "cell_type": "code",
   "execution_count": 21,
   "metadata": {},
   "outputs": [
    {
     "data": {
      "text/html": [
       "<div>\n",
       "<style scoped>\n",
       "    .dataframe tbody tr th:only-of-type {\n",
       "        vertical-align: middle;\n",
       "    }\n",
       "\n",
       "    .dataframe tbody tr th {\n",
       "        vertical-align: top;\n",
       "    }\n",
       "\n",
       "    .dataframe thead th {\n",
       "        text-align: right;\n",
       "    }\n",
       "</style>\n",
       "<table border=\"1\" class=\"dataframe\">\n",
       "  <thead>\n",
       "    <tr style=\"text-align: right;\">\n",
       "      <th></th>\n",
       "      <th>State</th>\n",
       "      <th>Year</th>\n",
       "      <th>Quarter</th>\n",
       "      <th>reg_users</th>\n",
       "      <th>app_opens</th>\n",
       "    </tr>\n",
       "  </thead>\n",
       "  <tbody>\n",
       "    <tr>\n",
       "      <th>24</th>\n",
       "      <td>andhra-pradesh</td>\n",
       "      <td>2018</td>\n",
       "      <td>1</td>\n",
       "      <td>3336450</td>\n",
       "      <td>0</td>\n",
       "    </tr>\n",
       "  </tbody>\n",
       "</table>\n",
       "</div>"
      ],
      "text/plain": [
       "             State  Year  Quarter  reg_users  app_opens\n",
       "24  andhra-pradesh  2018        1    3336450          0"
      ]
     },
     "execution_count": 21,
     "metadata": {},
     "output_type": "execute_result"
    }
   ],
   "source": [
    "Agg_User_app_open[(Agg_User_app_open['Year']=='2018') & (Agg_User_app_open['Quarter']==1) & (Agg_User_app_open['State']=='andhra-pradesh')]"
   ]
  },
  {
   "cell_type": "code",
   "execution_count": 38,
   "metadata": {},
   "outputs": [
    {
     "data": {
      "text/html": [
       "<div>\n",
       "<style scoped>\n",
       "    .dataframe tbody tr th:only-of-type {\n",
       "        vertical-align: middle;\n",
       "    }\n",
       "\n",
       "    .dataframe tbody tr th {\n",
       "        vertical-align: top;\n",
       "    }\n",
       "\n",
       "    .dataframe thead th {\n",
       "        text-align: right;\n",
       "    }\n",
       "</style>\n",
       "<table border=\"1\" class=\"dataframe\">\n",
       "  <thead>\n",
       "    <tr style=\"text-align: right;\">\n",
       "      <th></th>\n",
       "      <th>Year</th>\n",
       "      <th>Quarter</th>\n",
       "    </tr>\n",
       "  </thead>\n",
       "  <tbody>\n",
       "  </tbody>\n",
       "</table>\n",
       "</div>"
      ],
      "text/plain": [
       "Empty DataFrame\n",
       "Columns: [Year, Quarter]\n",
       "Index: []"
      ]
     },
     "execution_count": 38,
     "metadata": {},
     "output_type": "execute_result"
    }
   ],
   "source": [
    "agg_user_df[agg_user_df['user_brand'].isna()][['Year','Quarter']]"
   ]
  },
  {
   "cell_type": "code",
   "execution_count": 33,
   "metadata": {},
   "outputs": [
    {
     "data": {
      "text/plain": [
       "array(['2022', '2023'], dtype=object)"
      ]
     },
     "execution_count": 33,
     "metadata": {},
     "output_type": "execute_result"
    }
   ],
   "source": [
    "agg_user_df[agg_user_df['user_brand'].isna()]['Year'].unique()"
   ]
  },
  {
   "cell_type": "code",
   "execution_count": 35,
   "metadata": {},
   "outputs": [
    {
     "data": {
      "text/html": [
       "<div>\n",
       "<style scoped>\n",
       "    .dataframe tbody tr th:only-of-type {\n",
       "        vertical-align: middle;\n",
       "    }\n",
       "\n",
       "    .dataframe tbody tr th {\n",
       "        vertical-align: top;\n",
       "    }\n",
       "\n",
       "    .dataframe thead th {\n",
       "        text-align: right;\n",
       "    }\n",
       "</style>\n",
       "<table border=\"1\" class=\"dataframe\">\n",
       "  <thead>\n",
       "    <tr style=\"text-align: right;\">\n",
       "      <th></th>\n",
       "      <th>State</th>\n",
       "      <th>Year</th>\n",
       "      <th>Quarter</th>\n",
       "      <th>reg_users</th>\n",
       "      <th>app_opens</th>\n",
       "    </tr>\n",
       "  </thead>\n",
       "  <tbody>\n",
       "    <tr>\n",
       "      <th>16</th>\n",
       "      <td>andaman-&amp;-nicobar-islands</td>\n",
       "      <td>2022</td>\n",
       "      <td>1</td>\n",
       "      <td>76288</td>\n",
       "      <td>3847407</td>\n",
       "    </tr>\n",
       "    <tr>\n",
       "      <th>17</th>\n",
       "      <td>andaman-&amp;-nicobar-islands</td>\n",
       "      <td>2022</td>\n",
       "      <td>2</td>\n",
       "      <td>80530</td>\n",
       "      <td>5180013</td>\n",
       "    </tr>\n",
       "    <tr>\n",
       "      <th>18</th>\n",
       "      <td>andaman-&amp;-nicobar-islands</td>\n",
       "      <td>2022</td>\n",
       "      <td>3</td>\n",
       "      <td>84642</td>\n",
       "      <td>6068354</td>\n",
       "    </tr>\n",
       "    <tr>\n",
       "      <th>19</th>\n",
       "      <td>andaman-&amp;-nicobar-islands</td>\n",
       "      <td>2022</td>\n",
       "      <td>4</td>\n",
       "      <td>88442</td>\n",
       "      <td>4354093</td>\n",
       "    </tr>\n",
       "    <tr>\n",
       "      <th>20</th>\n",
       "      <td>andaman-&amp;-nicobar-islands</td>\n",
       "      <td>2023</td>\n",
       "      <td>1</td>\n",
       "      <td>92484</td>\n",
       "      <td>11012664</td>\n",
       "    </tr>\n",
       "    <tr>\n",
       "      <th>...</th>\n",
       "      <td>...</td>\n",
       "      <td>...</td>\n",
       "      <td>...</td>\n",
       "      <td>...</td>\n",
       "      <td>...</td>\n",
       "    </tr>\n",
       "    <tr>\n",
       "      <th>859</th>\n",
       "      <td>west-bengal</td>\n",
       "      <td>2022</td>\n",
       "      <td>4</td>\n",
       "      <td>25536381</td>\n",
       "      <td>678066327</td>\n",
       "    </tr>\n",
       "    <tr>\n",
       "      <th>860</th>\n",
       "      <td>west-bengal</td>\n",
       "      <td>2023</td>\n",
       "      <td>1</td>\n",
       "      <td>26732895</td>\n",
       "      <td>321102681</td>\n",
       "    </tr>\n",
       "    <tr>\n",
       "      <th>861</th>\n",
       "      <td>west-bengal</td>\n",
       "      <td>2023</td>\n",
       "      <td>2</td>\n",
       "      <td>27827662</td>\n",
       "      <td>350862668</td>\n",
       "    </tr>\n",
       "    <tr>\n",
       "      <th>862</th>\n",
       "      <td>west-bengal</td>\n",
       "      <td>2023</td>\n",
       "      <td>3</td>\n",
       "      <td>28966414</td>\n",
       "      <td>473450373</td>\n",
       "    </tr>\n",
       "    <tr>\n",
       "      <th>863</th>\n",
       "      <td>west-bengal</td>\n",
       "      <td>2023</td>\n",
       "      <td>4</td>\n",
       "      <td>30064546</td>\n",
       "      <td>1467442959</td>\n",
       "    </tr>\n",
       "  </tbody>\n",
       "</table>\n",
       "<p>288 rows × 5 columns</p>\n",
       "</div>"
      ],
      "text/plain": [
       "                         State  Year  Quarter  reg_users   app_opens\n",
       "16   andaman-&-nicobar-islands  2022        1      76288     3847407\n",
       "17   andaman-&-nicobar-islands  2022        2      80530     5180013\n",
       "18   andaman-&-nicobar-islands  2022        3      84642     6068354\n",
       "19   andaman-&-nicobar-islands  2022        4      88442     4354093\n",
       "20   andaman-&-nicobar-islands  2023        1      92484    11012664\n",
       "..                         ...   ...      ...        ...         ...\n",
       "859                west-bengal  2022        4   25536381   678066327\n",
       "860                west-bengal  2023        1   26732895   321102681\n",
       "861                west-bengal  2023        2   27827662   350862668\n",
       "862                west-bengal  2023        3   28966414   473450373\n",
       "863                west-bengal  2023        4   30064546  1467442959\n",
       "\n",
       "[288 rows x 5 columns]"
      ]
     },
     "execution_count": 35,
     "metadata": {},
     "output_type": "execute_result"
    }
   ],
   "source": [
    "Agg_User_app_open[Agg_User_app_open['Year'].isin(['2022', '2023'])]"
   ]
  },
  {
   "cell_type": "code",
   "execution_count": 45,
   "metadata": {},
   "outputs": [
    {
     "name": "stdout",
     "output_type": "stream",
     "text": [
      "Yes Present\n"
     ]
    }
   ],
   "source": [
    "if 'Year' in agg_user_df.columns:\n",
    "    print('Yes Present')\n",
    "else:\n",
    "    print('not present')"
   ]
  },
  {
   "cell_type": "code",
   "execution_count": 47,
   "metadata": {},
   "outputs": [
    {
     "data": {
      "application/vnd.plotly.v1+json": {
       "config": {
        "plotlyServerURL": "https://plot.ly"
       },
       "data": [
        {
         "alignmentgroup": "True",
         "hovertemplate": "Metric=Transaction_Count<br>Year=%{x}<br>Amount=%{y}<extra></extra>",
         "legendgroup": "Transaction_Count",
         "marker": {
          "color": "#000001",
          "pattern": {
           "shape": ""
          }
         },
         "name": "Transaction_Count",
         "offsetgroup": "Transaction_Count",
         "orientation": "v",
         "showlegend": true,
         "textposition": "auto",
         "type": "bar",
         "x": [
          "2023",
          "2022",
          "2021",
          "2020",
          "2019"
         ],
         "xaxis": "x",
         "y": [
          64257054687,
          39301293734,
          19288429220,
          7973974741,
          4079827215
         ],
         "yaxis": "y"
        },
        {
         "alignmentgroup": "True",
         "hovertemplate": "Metric=Transaction_Amount<br>Year=%{x}<br>Amount=%{y}<extra></extra>",
         "legendgroup": "Transaction_Amount",
         "marker": {
          "color": "#000002",
          "pattern": {
           "shape": ""
          }
         },
         "name": "Transaction_Amount",
         "offsetgroup": "Transaction_Amount",
         "orientation": "v",
         "showlegend": true,
         "textposition": "auto",
         "type": "bar",
         "x": [
          "2023",
          "2022",
          "2021",
          "2020",
          "2019"
         ],
         "xaxis": "x",
         "y": [
          94491813399121,
          64266332910901.01,
          34598699687169,
          14641161978067.002,
          6276688133187
         ],
         "yaxis": "y"
        }
       ],
       "layout": {
        "barmode": "relative",
        "legend": {
         "title": {
          "text": "Metric"
         },
         "tracegroupgap": 0
        },
        "template": {
         "data": {
          "candlestick": [
           {
            "decreasing": {
             "line": {
              "color": "#000033"
             }
            },
            "increasing": {
             "line": {
              "color": "#000032"
             }
            },
            "type": "candlestick"
           }
          ],
          "contour": [
           {
            "colorscale": [
             [
              0,
              "#000011"
             ],
             [
              0.1111111111111111,
              "#000012"
             ],
             [
              0.2222222222222222,
              "#000013"
             ],
             [
              0.3333333333333333,
              "#000014"
             ],
             [
              0.4444444444444444,
              "#000015"
             ],
             [
              0.5555555555555556,
              "#000016"
             ],
             [
              0.6666666666666666,
              "#000017"
             ],
             [
              0.7777777777777778,
              "#000018"
             ],
             [
              0.8888888888888888,
              "#000019"
             ],
             [
              1,
              "#000020"
             ]
            ],
            "type": "contour"
           }
          ],
          "contourcarpet": [
           {
            "colorscale": [
             [
              0,
              "#000011"
             ],
             [
              0.1111111111111111,
              "#000012"
             ],
             [
              0.2222222222222222,
              "#000013"
             ],
             [
              0.3333333333333333,
              "#000014"
             ],
             [
              0.4444444444444444,
              "#000015"
             ],
             [
              0.5555555555555556,
              "#000016"
             ],
             [
              0.6666666666666666,
              "#000017"
             ],
             [
              0.7777777777777778,
              "#000018"
             ],
             [
              0.8888888888888888,
              "#000019"
             ],
             [
              1,
              "#000020"
             ]
            ],
            "type": "contourcarpet"
           }
          ],
          "heatmap": [
           {
            "colorscale": [
             [
              0,
              "#000011"
             ],
             [
              0.1111111111111111,
              "#000012"
             ],
             [
              0.2222222222222222,
              "#000013"
             ],
             [
              0.3333333333333333,
              "#000014"
             ],
             [
              0.4444444444444444,
              "#000015"
             ],
             [
              0.5555555555555556,
              "#000016"
             ],
             [
              0.6666666666666666,
              "#000017"
             ],
             [
              0.7777777777777778,
              "#000018"
             ],
             [
              0.8888888888888888,
              "#000019"
             ],
             [
              1,
              "#000020"
             ]
            ],
            "type": "heatmap"
           }
          ],
          "histogram2d": [
           {
            "colorscale": [
             [
              0,
              "#000011"
             ],
             [
              0.1111111111111111,
              "#000012"
             ],
             [
              0.2222222222222222,
              "#000013"
             ],
             [
              0.3333333333333333,
              "#000014"
             ],
             [
              0.4444444444444444,
              "#000015"
             ],
             [
              0.5555555555555556,
              "#000016"
             ],
             [
              0.6666666666666666,
              "#000017"
             ],
             [
              0.7777777777777778,
              "#000018"
             ],
             [
              0.8888888888888888,
              "#000019"
             ],
             [
              1,
              "#000020"
             ]
            ],
            "type": "histogram2d"
           }
          ],
          "icicle": [
           {
            "textfont": {
             "color": "white"
            },
            "type": "icicle"
           }
          ],
          "sankey": [
           {
            "textfont": {
             "color": "#000036"
            },
            "type": "sankey"
           }
          ],
          "scatter": [
           {
            "marker": {
             "line": {
              "width": 0
             }
            },
            "type": "scatter"
           }
          ],
          "table": [
           {
            "cells": {
             "fill": {
              "color": "#000038"
             },
             "font": {
              "color": "#000037"
             },
             "line": {
              "color": "#000039"
             }
            },
            "header": {
             "fill": {
              "color": "#000040"
             },
             "font": {
              "color": "#000036"
             },
             "line": {
              "color": "#000039"
             }
            },
            "type": "table"
           }
          ],
          "waterfall": [
           {
            "connector": {
             "line": {
              "color": "#000036",
              "width": 2
             }
            },
            "decreasing": {
             "marker": {
              "color": "#000033"
             }
            },
            "increasing": {
             "marker": {
              "color": "#000032"
             }
            },
            "totals": {
             "marker": {
              "color": "#000034"
             }
            },
            "type": "waterfall"
           }
          ]
         },
         "layout": {
          "coloraxis": {
           "colorscale": [
            [
             0,
             "#000011"
            ],
            [
             0.1111111111111111,
             "#000012"
            ],
            [
             0.2222222222222222,
             "#000013"
            ],
            [
             0.3333333333333333,
             "#000014"
            ],
            [
             0.4444444444444444,
             "#000015"
            ],
            [
             0.5555555555555556,
             "#000016"
            ],
            [
             0.6666666666666666,
             "#000017"
            ],
            [
             0.7777777777777778,
             "#000018"
            ],
            [
             0.8888888888888888,
             "#000019"
            ],
            [
             1,
             "#000020"
            ]
           ]
          },
          "colorscale": {
           "diverging": [
            [
             0,
             "#000021"
            ],
            [
             0.1,
             "#000022"
            ],
            [
             0.2,
             "#000023"
            ],
            [
             0.3,
             "#000024"
            ],
            [
             0.4,
             "#000025"
            ],
            [
             0.5,
             "#000026"
            ],
            [
             0.6,
             "#000027"
            ],
            [
             0.7,
             "#000028"
            ],
            [
             0.8,
             "#000029"
            ],
            [
             0.9,
             "#000030"
            ],
            [
             1,
             "#000031"
            ]
           ],
           "sequential": [
            [
             0,
             "#000011"
            ],
            [
             0.1111111111111111,
             "#000012"
            ],
            [
             0.2222222222222222,
             "#000013"
            ],
            [
             0.3333333333333333,
             "#000014"
            ],
            [
             0.4444444444444444,
             "#000015"
            ],
            [
             0.5555555555555556,
             "#000016"
            ],
            [
             0.6666666666666666,
             "#000017"
            ],
            [
             0.7777777777777778,
             "#000018"
            ],
            [
             0.8888888888888888,
             "#000019"
            ],
            [
             1,
             "#000020"
            ]
           ],
           "sequentialminus": [
            [
             0,
             "#000011"
            ],
            [
             0.1111111111111111,
             "#000012"
            ],
            [
             0.2222222222222222,
             "#000013"
            ],
            [
             0.3333333333333333,
             "#000014"
            ],
            [
             0.4444444444444444,
             "#000015"
            ],
            [
             0.5555555555555556,
             "#000016"
            ],
            [
             0.6666666666666666,
             "#000017"
            ],
            [
             0.7777777777777778,
             "#000018"
            ],
            [
             0.8888888888888888,
             "#000019"
            ],
            [
             1,
             "#000020"
            ]
           ]
          },
          "colorway": [
           "#000001",
           "#000002",
           "#000003",
           "#000004",
           "#000005",
           "#000006",
           "#000007",
           "#000008",
           "#000009",
           "#000010"
          ]
         }
        },
        "title": {
         "text": "Transaction Count and Transaction Amount Over the Years"
        },
        "xaxis": {
         "anchor": "y",
         "domain": [
          0,
          1
         ],
         "title": {
          "text": "Year"
         }
        },
        "yaxis": {
         "anchor": "x",
         "domain": [
          0,
          1
         ],
         "title": {
          "text": "Amount"
         }
        }
       }
      }
     },
     "metadata": {},
     "output_type": "display_data"
    }
   ],
   "source": [
    "import pandas as pd\n",
    "import streamlit as st\n",
    "import plotly.express as px\n",
    "\n",
    "# Sample data (replace this with your DataFrame)\n",
    "data = {\n",
    "    'Year': [2023, 2022, 2021, 2020, 2019],\n",
    "    'Transaction_Count': [64257054687, 39301293734, 19288429220, 7973974741, 4079827215],\n",
    "    'Transaction_Amount': [94491813399121, 64266332910901.01, 34598699687169, 14641161978067.002, 6276688133187]\n",
    "}\n",
    "\n",
    "# Create DataFrame\n",
    "df = pd.DataFrame(data)\n",
    "\n",
    "# Convert 'Year' column to string\n",
    "df['Year'] = df['Year'].astype(str)\n",
    "\n",
    "# Plotly bar chart\n",
    "fig = px.bar(df, x='Year', y=['Transaction_Count', 'Transaction_Amount'],\n",
    "             labels={'value': 'Amount', 'variable': 'Metric'},\n",
    "             title='Transaction Count and Transaction Amount Over the Years')\n",
    "\n",
    "# Customize layout\n",
    "fig.update_layout(xaxis_title='Year', yaxis_title='Amount')\n",
    "\n",
    "# Display the plot in Streamlit\n",
    "# st.plotly_chart(fig)\n",
    "fig.show()\n"
   ]
  },
  {
   "cell_type": "code",
   "execution_count": 48,
   "metadata": {},
   "outputs": [
    {
     "data": {
      "application/vnd.plotly.v1+json": {
       "config": {
        "plotlyServerURL": "https://plot.ly"
       },
       "data": [
        {
         "alignmentgroup": "True",
         "hovertemplate": "State=%{x}<br>Total Transactions Count=%{y}<extra></extra>",
         "legendgroup": "",
         "marker": {
          "color": "#000001",
          "pattern": {
           "shape": ""
          }
         },
         "name": "",
         "offsetgroup": "",
         "orientation": "v",
         "showlegend": false,
         "textposition": "auto",
         "type": "bar",
         "x": [
          "Maharashtra",
          "Karnataka",
          "Telangana",
          "Andhra Pradesh",
          "Uttar Pradesh",
          "Rajasthan",
          "Madhya Pradesh",
          "Bihar",
          "Delhi",
          "West Bengal"
         ],
         "xaxis": "x",
         "y": [
          19164307615,
          18416303757,
          16145445490,
          10845329032,
          9771922023,
          9711334203,
          8127407096,
          5635859758,
          5311654584,
          5062558266
         ],
         "yaxis": "y"
        }
       ],
       "layout": {
        "barmode": "relative",
        "legend": {
         "tracegroupgap": 0
        },
        "template": {
         "data": {
          "candlestick": [
           {
            "decreasing": {
             "line": {
              "color": "#000033"
             }
            },
            "increasing": {
             "line": {
              "color": "#000032"
             }
            },
            "type": "candlestick"
           }
          ],
          "contour": [
           {
            "colorscale": [
             [
              0,
              "#000011"
             ],
             [
              0.1111111111111111,
              "#000012"
             ],
             [
              0.2222222222222222,
              "#000013"
             ],
             [
              0.3333333333333333,
              "#000014"
             ],
             [
              0.4444444444444444,
              "#000015"
             ],
             [
              0.5555555555555556,
              "#000016"
             ],
             [
              0.6666666666666666,
              "#000017"
             ],
             [
              0.7777777777777778,
              "#000018"
             ],
             [
              0.8888888888888888,
              "#000019"
             ],
             [
              1,
              "#000020"
             ]
            ],
            "type": "contour"
           }
          ],
          "contourcarpet": [
           {
            "colorscale": [
             [
              0,
              "#000011"
             ],
             [
              0.1111111111111111,
              "#000012"
             ],
             [
              0.2222222222222222,
              "#000013"
             ],
             [
              0.3333333333333333,
              "#000014"
             ],
             [
              0.4444444444444444,
              "#000015"
             ],
             [
              0.5555555555555556,
              "#000016"
             ],
             [
              0.6666666666666666,
              "#000017"
             ],
             [
              0.7777777777777778,
              "#000018"
             ],
             [
              0.8888888888888888,
              "#000019"
             ],
             [
              1,
              "#000020"
             ]
            ],
            "type": "contourcarpet"
           }
          ],
          "heatmap": [
           {
            "colorscale": [
             [
              0,
              "#000011"
             ],
             [
              0.1111111111111111,
              "#000012"
             ],
             [
              0.2222222222222222,
              "#000013"
             ],
             [
              0.3333333333333333,
              "#000014"
             ],
             [
              0.4444444444444444,
              "#000015"
             ],
             [
              0.5555555555555556,
              "#000016"
             ],
             [
              0.6666666666666666,
              "#000017"
             ],
             [
              0.7777777777777778,
              "#000018"
             ],
             [
              0.8888888888888888,
              "#000019"
             ],
             [
              1,
              "#000020"
             ]
            ],
            "type": "heatmap"
           }
          ],
          "histogram2d": [
           {
            "colorscale": [
             [
              0,
              "#000011"
             ],
             [
              0.1111111111111111,
              "#000012"
             ],
             [
              0.2222222222222222,
              "#000013"
             ],
             [
              0.3333333333333333,
              "#000014"
             ],
             [
              0.4444444444444444,
              "#000015"
             ],
             [
              0.5555555555555556,
              "#000016"
             ],
             [
              0.6666666666666666,
              "#000017"
             ],
             [
              0.7777777777777778,
              "#000018"
             ],
             [
              0.8888888888888888,
              "#000019"
             ],
             [
              1,
              "#000020"
             ]
            ],
            "type": "histogram2d"
           }
          ],
          "icicle": [
           {
            "textfont": {
             "color": "white"
            },
            "type": "icicle"
           }
          ],
          "sankey": [
           {
            "textfont": {
             "color": "#000036"
            },
            "type": "sankey"
           }
          ],
          "scatter": [
           {
            "marker": {
             "line": {
              "width": 0
             }
            },
            "type": "scatter"
           }
          ],
          "table": [
           {
            "cells": {
             "fill": {
              "color": "#000038"
             },
             "font": {
              "color": "#000037"
             },
             "line": {
              "color": "#000039"
             }
            },
            "header": {
             "fill": {
              "color": "#000040"
             },
             "font": {
              "color": "#000036"
             },
             "line": {
              "color": "#000039"
             }
            },
            "type": "table"
           }
          ],
          "waterfall": [
           {
            "connector": {
             "line": {
              "color": "#000036",
              "width": 2
             }
            },
            "decreasing": {
             "marker": {
              "color": "#000033"
             }
            },
            "increasing": {
             "marker": {
              "color": "#000032"
             }
            },
            "totals": {
             "marker": {
              "color": "#000034"
             }
            },
            "type": "waterfall"
           }
          ]
         },
         "layout": {
          "coloraxis": {
           "colorscale": [
            [
             0,
             "#000011"
            ],
            [
             0.1111111111111111,
             "#000012"
            ],
            [
             0.2222222222222222,
             "#000013"
            ],
            [
             0.3333333333333333,
             "#000014"
            ],
            [
             0.4444444444444444,
             "#000015"
            ],
            [
             0.5555555555555556,
             "#000016"
            ],
            [
             0.6666666666666666,
             "#000017"
            ],
            [
             0.7777777777777778,
             "#000018"
            ],
            [
             0.8888888888888888,
             "#000019"
            ],
            [
             1,
             "#000020"
            ]
           ]
          },
          "colorscale": {
           "diverging": [
            [
             0,
             "#000021"
            ],
            [
             0.1,
             "#000022"
            ],
            [
             0.2,
             "#000023"
            ],
            [
             0.3,
             "#000024"
            ],
            [
             0.4,
             "#000025"
            ],
            [
             0.5,
             "#000026"
            ],
            [
             0.6,
             "#000027"
            ],
            [
             0.7,
             "#000028"
            ],
            [
             0.8,
             "#000029"
            ],
            [
             0.9,
             "#000030"
            ],
            [
             1,
             "#000031"
            ]
           ],
           "sequential": [
            [
             0,
             "#000011"
            ],
            [
             0.1111111111111111,
             "#000012"
            ],
            [
             0.2222222222222222,
             "#000013"
            ],
            [
             0.3333333333333333,
             "#000014"
            ],
            [
             0.4444444444444444,
             "#000015"
            ],
            [
             0.5555555555555556,
             "#000016"
            ],
            [
             0.6666666666666666,
             "#000017"
            ],
            [
             0.7777777777777778,
             "#000018"
            ],
            [
             0.8888888888888888,
             "#000019"
            ],
            [
             1,
             "#000020"
            ]
           ],
           "sequentialminus": [
            [
             0,
             "#000011"
            ],
            [
             0.1111111111111111,
             "#000012"
            ],
            [
             0.2222222222222222,
             "#000013"
            ],
            [
             0.3333333333333333,
             "#000014"
            ],
            [
             0.4444444444444444,
             "#000015"
            ],
            [
             0.5555555555555556,
             "#000016"
            ],
            [
             0.6666666666666666,
             "#000017"
            ],
            [
             0.7777777777777778,
             "#000018"
            ],
            [
             0.8888888888888888,
             "#000019"
            ],
            [
             1,
             "#000020"
            ]
           ]
          },
          "colorway": [
           "#000001",
           "#000002",
           "#000003",
           "#000004",
           "#000005",
           "#000006",
           "#000007",
           "#000008",
           "#000009",
           "#000010"
          ]
         }
        },
        "title": {
         "text": "Total Transactions Count by State"
        },
        "xaxis": {
         "anchor": "y",
         "domain": [
          0,
          1
         ],
         "title": {
          "text": "State"
         }
        },
        "yaxis": {
         "anchor": "x",
         "domain": [
          0,
          1
         ],
         "title": {
          "text": "Total Transactions Count"
         }
        }
       }
      }
     },
     "metadata": {},
     "output_type": "display_data"
    }
   ],
   "source": [
    "import pandas as pd\n",
    "import plotly.express as px\n",
    "\n",
    "# Sample data\n",
    "data = {\n",
    "    'State': ['Maharashtra', 'Karnataka', 'Telangana', 'Andhra Pradesh', 'Uttar Pradesh',\n",
    "              'Rajasthan', 'Madhya Pradesh', 'Bihar', 'Delhi', 'West Bengal'],\n",
    "    'Total_Transactions_count': [19164307615, 18416303757, 16145445490, 10845329032, 9771922023,\n",
    "                                 9711334203, 8127407096, 5635859758, 5311654584, 5062558266]\n",
    "}\n",
    "\n",
    "# Create DataFrame\n",
    "df = pd.DataFrame(data)\n",
    "\n",
    "# Plotly bar chart\n",
    "fig = px.bar(df, x='State', y='Total_Transactions_count',\n",
    "             labels={'Total_Transactions_count': 'Total Transactions Count'},\n",
    "             title='Total Transactions Count by State')\n",
    "\n",
    "# Customize layout\n",
    "fig.update_layout(xaxis_title='State', yaxis_title='Total Transactions Count')\n",
    "\n",
    "# Display the plot in Streamlit\n",
    "fig.show()\n"
   ]
  }
 ],
 "metadata": {
  "kernelspec": {
   "display_name": "Python 3",
   "language": "python",
   "name": "python3"
  },
  "language_info": {
   "codemirror_mode": {
    "name": "ipython",
    "version": 3
   },
   "file_extension": ".py",
   "mimetype": "text/x-python",
   "name": "python",
   "nbconvert_exporter": "python",
   "pygments_lexer": "ipython3",
   "version": "3.10.0"
  }
 },
 "nbformat": 4,
 "nbformat_minor": 2
}
